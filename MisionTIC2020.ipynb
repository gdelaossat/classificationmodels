{
  "nbformat": 4,
  "nbformat_minor": 0,
  "metadata": {
    "colab": {
      "name": "MisionTIC2020.ipynb",
      "provenance": [],
      "collapsed_sections": [
        "Y6YJXK85B-5v",
        "opS7fDjECeOP",
        "jSLJeKPEXKhv",
        "wIHYmQ33Cu4e",
        "0cEYn2vEC4Bw",
        "AYZ9TMQ6EC7Q",
        "tohHOKWH-Jen",
        "r3Ltkgym-UpW",
        "LUFBnwkdFRSP",
        "wWZgZ7D6IiA2",
        "WFPY_z7SNwT_"
      ],
      "authorship_tag": "ABX9TyPIGXJTeqxZPdbAzryHXxu7",
      "include_colab_link": true
    },
    "kernelspec": {
      "name": "python3",
      "display_name": "Python 3"
    },
    "language_info": {
      "name": "python"
    }
  },
  "cells": [
    {
      "cell_type": "markdown",
      "metadata": {
        "id": "view-in-github",
        "colab_type": "text"
      },
      "source": [
        "<a href=\"https://colab.research.google.com/github/gdelaossat/classificationmodels/blob/main/MisionTIC2020.ipynb\" target=\"_parent\"><img src=\"https://colab.research.google.com/assets/colab-badge.svg\" alt=\"Open In Colab\"/></a>"
      ]
    },
    {
      "cell_type": "code",
      "execution_count": null,
      "metadata": {
        "id": "1JjeceuhSu4x"
      },
      "outputs": [],
      "source": [
        "import pandas as pd\n",
        "import seaborn as sns\n",
        "import matplotlib.pyplot as plt\n",
        "import numpy as np\n",
        "from sklearn import metrics\n",
        "from sklearn.metrics import classification_report\n",
        "from sklearn.metrics import confusion_matrix\n",
        "from collections import Counter\n",
        "from imblearn.combine import SMOTETomek\n",
        "from imblearn.under_sampling import NearMiss"
      ]
    },
    {
      "cell_type": "markdown",
      "source": [
        "# Funciones"
      ],
      "metadata": {
        "id": "Y6YJXK85B-5v"
      }
    },
    {
      "cell_type": "code",
      "source": [
        "def show_results(output_val, predicted):\n",
        "  cf_matrix = confusion_matrix(output_val, predicted)\n",
        "  group_names = ['True Neg','False Pos','False Neg','True Pos']\n",
        "\n",
        "  group_counts = [\"{0:0.0f}\".format(value) for value in\n",
        "                  cf_matrix.flatten()]\n",
        "\n",
        "  group_percentages = [\"{0:.2%}\".format(value) for value in\n",
        "                      cf_matrix.flatten()/np.sum(cf_matrix)]\n",
        "\n",
        "  labels = [f\"{v1}\\n{v2}\\n{v3}\" for v1, v2, v3 in\n",
        "            zip(group_names,group_counts,group_percentages)]\n",
        "\n",
        "  labels = np.asarray(labels).reshape(2,2)\n",
        "\n",
        "  ax = sns.heatmap(cf_matrix, annot=labels, fmt='', cmap='Blues')\n",
        "\n",
        "  ax.set_title('Graduados \\n\\n');\n",
        "  ax.set_xlabel('\\nPredicted Values')\n",
        "  ax.set_ylabel('Actual Values ');\n",
        "\n",
        "  ## Ticket labels - List must be in alphabetical order\n",
        "  ax.xaxis.set_ticklabels(['False','True'])\n",
        "  ax.yaxis.set_ticklabels(['False','True'])\n",
        "\n",
        "  ## Display the visualization of the Confusion Matrix.\n",
        "  plt.show()\n",
        "\n",
        "  y_pred_proba = log_fit.predict_proba(input_val)[::,1]\n",
        "\n",
        "  fper, tper, thresholds = metrics.roc_curve(output_val, y_pred_proba)\n",
        "\n",
        "\n",
        "\n",
        "  plt.plot(fper, tper, color='red', label='ROC')\n",
        "  plt.plot([0, 1], [0, 1], color='green', linestyle='--')\n",
        "  plt.xlabel('False Positive Rate')\n",
        "  plt.ylabel('True Positive Rate')\n",
        "  plt.title('Receiver Operating Characteristic Curve')\n",
        "  plt.legend()\n",
        "  plt.show()\n",
        "\n",
        "  print (classification_report(output_val, predicted))"
      ],
      "metadata": {
        "id": "VRDdsTpnB8JS"
      },
      "execution_count": null,
      "outputs": []
    },
    {
      "cell_type": "markdown",
      "source": [
        "# Lectura de datos"
      ],
      "metadata": {
        "id": "opS7fDjECeOP"
      }
    },
    {
      "cell_type": "code",
      "source": [
        "from google.colab import drive\n",
        "drive.mount('/content/drive')"
      ],
      "metadata": {
        "colab": {
          "base_uri": "https://localhost:8080/"
        },
        "id": "squIbULeS1i4",
        "outputId": "7bcc2914-64a7-47f8-8f60-70c74da46e56"
      },
      "execution_count": null,
      "outputs": [
        {
          "output_type": "stream",
          "name": "stdout",
          "text": [
            "Drive already mounted at /content/drive; to attempt to forcibly remount, call drive.mount(\"/content/drive\", force_remount=True).\n"
          ]
        }
      ]
    },
    {
      "cell_type": "code",
      "source": [
        "dfOriginal = pd.read_csv('/content/drive/MyDrive/Maestría GOB TI/Business Intelligence/misiontic2020.csv')\n"
      ],
      "metadata": {
        "id": "CvxvrUd6TB6t"
      },
      "execution_count": null,
      "outputs": []
    },
    {
      "cell_type": "markdown",
      "source": [
        "# Exploración de datos y limpieza"
      ],
      "metadata": {
        "id": "jSLJeKPEXKhv"
      }
    },
    {
      "cell_type": "code",
      "source": [
        "dfOriginal.head(2)"
      ],
      "metadata": {
        "colab": {
          "base_uri": "https://localhost:8080/",
          "height": 211
        },
        "id": "Qwci9m4vPzc5",
        "outputId": "3ea9b230-ac45-4eb0-a157-5e00ada4a04f"
      },
      "execution_count": null,
      "outputs": [
        {
          "output_type": "execute_result",
          "data": {
            "text/plain": [
              "  FECHA_CORTE DEPARTAME_NOMBRE MUNICIPIO_NOMBRE ESTADO_FORMACION     ESTADOS  \\\n",
              "0  2021-10-01          QUINDIO          ARMENIA        ASPIRANTE  ASPIRANTES   \n",
              "1  2021-10-01          QUINDIO          ARMENIA        ASPIRANTE  ASPIRANTES   \n",
              "\n",
              "   CONVOCATORIA ESTRATO_SOCIAL  EDAD     GENERO    RUTA  GRADO  \\\n",
              "0             1              3    29  MASCULINO  RUTA 2     -1   \n",
              "1             1              3    29  MASCULINO  RUTA 2     -1   \n",
              "\n",
              "   META_BENEFICIARIO  INVERSION  META_DINERO FECHA_VIGENCIA  \n",
              "0                NaN        NaN          NaN     2021-12-31  \n",
              "1                NaN        NaN          NaN     2021-12-31  "
            ],
            "text/html": [
              "\n",
              "  <div id=\"df-218156e9-013d-42ce-9cf7-ebeb662cc3bf\">\n",
              "    <div class=\"colab-df-container\">\n",
              "      <div>\n",
              "<style scoped>\n",
              "    .dataframe tbody tr th:only-of-type {\n",
              "        vertical-align: middle;\n",
              "    }\n",
              "\n",
              "    .dataframe tbody tr th {\n",
              "        vertical-align: top;\n",
              "    }\n",
              "\n",
              "    .dataframe thead th {\n",
              "        text-align: right;\n",
              "    }\n",
              "</style>\n",
              "<table border=\"1\" class=\"dataframe\">\n",
              "  <thead>\n",
              "    <tr style=\"text-align: right;\">\n",
              "      <th></th>\n",
              "      <th>FECHA_CORTE</th>\n",
              "      <th>DEPARTAME_NOMBRE</th>\n",
              "      <th>MUNICIPIO_NOMBRE</th>\n",
              "      <th>ESTADO_FORMACION</th>\n",
              "      <th>ESTADOS</th>\n",
              "      <th>CONVOCATORIA</th>\n",
              "      <th>ESTRATO_SOCIAL</th>\n",
              "      <th>EDAD</th>\n",
              "      <th>GENERO</th>\n",
              "      <th>RUTA</th>\n",
              "      <th>GRADO</th>\n",
              "      <th>META_BENEFICIARIO</th>\n",
              "      <th>INVERSION</th>\n",
              "      <th>META_DINERO</th>\n",
              "      <th>FECHA_VIGENCIA</th>\n",
              "    </tr>\n",
              "  </thead>\n",
              "  <tbody>\n",
              "    <tr>\n",
              "      <th>0</th>\n",
              "      <td>2021-10-01</td>\n",
              "      <td>QUINDIO</td>\n",
              "      <td>ARMENIA</td>\n",
              "      <td>ASPIRANTE</td>\n",
              "      <td>ASPIRANTES</td>\n",
              "      <td>1</td>\n",
              "      <td>3</td>\n",
              "      <td>29</td>\n",
              "      <td>MASCULINO</td>\n",
              "      <td>RUTA 2</td>\n",
              "      <td>-1</td>\n",
              "      <td>NaN</td>\n",
              "      <td>NaN</td>\n",
              "      <td>NaN</td>\n",
              "      <td>2021-12-31</td>\n",
              "    </tr>\n",
              "    <tr>\n",
              "      <th>1</th>\n",
              "      <td>2021-10-01</td>\n",
              "      <td>QUINDIO</td>\n",
              "      <td>ARMENIA</td>\n",
              "      <td>ASPIRANTE</td>\n",
              "      <td>ASPIRANTES</td>\n",
              "      <td>1</td>\n",
              "      <td>3</td>\n",
              "      <td>29</td>\n",
              "      <td>MASCULINO</td>\n",
              "      <td>RUTA 2</td>\n",
              "      <td>-1</td>\n",
              "      <td>NaN</td>\n",
              "      <td>NaN</td>\n",
              "      <td>NaN</td>\n",
              "      <td>2021-12-31</td>\n",
              "    </tr>\n",
              "  </tbody>\n",
              "</table>\n",
              "</div>\n",
              "      <button class=\"colab-df-convert\" onclick=\"convertToInteractive('df-218156e9-013d-42ce-9cf7-ebeb662cc3bf')\"\n",
              "              title=\"Convert this dataframe to an interactive table.\"\n",
              "              style=\"display:none;\">\n",
              "        \n",
              "  <svg xmlns=\"http://www.w3.org/2000/svg\" height=\"24px\"viewBox=\"0 0 24 24\"\n",
              "       width=\"24px\">\n",
              "    <path d=\"M0 0h24v24H0V0z\" fill=\"none\"/>\n",
              "    <path d=\"M18.56 5.44l.94 2.06.94-2.06 2.06-.94-2.06-.94-.94-2.06-.94 2.06-2.06.94zm-11 1L8.5 8.5l.94-2.06 2.06-.94-2.06-.94L8.5 2.5l-.94 2.06-2.06.94zm10 10l.94 2.06.94-2.06 2.06-.94-2.06-.94-.94-2.06-.94 2.06-2.06.94z\"/><path d=\"M17.41 7.96l-1.37-1.37c-.4-.4-.92-.59-1.43-.59-.52 0-1.04.2-1.43.59L10.3 9.45l-7.72 7.72c-.78.78-.78 2.05 0 2.83L4 21.41c.39.39.9.59 1.41.59.51 0 1.02-.2 1.41-.59l7.78-7.78 2.81-2.81c.8-.78.8-2.07 0-2.86zM5.41 20L4 18.59l7.72-7.72 1.47 1.35L5.41 20z\"/>\n",
              "  </svg>\n",
              "      </button>\n",
              "      \n",
              "  <style>\n",
              "    .colab-df-container {\n",
              "      display:flex;\n",
              "      flex-wrap:wrap;\n",
              "      gap: 12px;\n",
              "    }\n",
              "\n",
              "    .colab-df-convert {\n",
              "      background-color: #E8F0FE;\n",
              "      border: none;\n",
              "      border-radius: 50%;\n",
              "      cursor: pointer;\n",
              "      display: none;\n",
              "      fill: #1967D2;\n",
              "      height: 32px;\n",
              "      padding: 0 0 0 0;\n",
              "      width: 32px;\n",
              "    }\n",
              "\n",
              "    .colab-df-convert:hover {\n",
              "      background-color: #E2EBFA;\n",
              "      box-shadow: 0px 1px 2px rgba(60, 64, 67, 0.3), 0px 1px 3px 1px rgba(60, 64, 67, 0.15);\n",
              "      fill: #174EA6;\n",
              "    }\n",
              "\n",
              "    [theme=dark] .colab-df-convert {\n",
              "      background-color: #3B4455;\n",
              "      fill: #D2E3FC;\n",
              "    }\n",
              "\n",
              "    [theme=dark] .colab-df-convert:hover {\n",
              "      background-color: #434B5C;\n",
              "      box-shadow: 0px 1px 3px 1px rgba(0, 0, 0, 0.15);\n",
              "      filter: drop-shadow(0px 1px 2px rgba(0, 0, 0, 0.3));\n",
              "      fill: #FFFFFF;\n",
              "    }\n",
              "  </style>\n",
              "\n",
              "      <script>\n",
              "        const buttonEl =\n",
              "          document.querySelector('#df-218156e9-013d-42ce-9cf7-ebeb662cc3bf button.colab-df-convert');\n",
              "        buttonEl.style.display =\n",
              "          google.colab.kernel.accessAllowed ? 'block' : 'none';\n",
              "\n",
              "        async function convertToInteractive(key) {\n",
              "          const element = document.querySelector('#df-218156e9-013d-42ce-9cf7-ebeb662cc3bf');\n",
              "          const dataTable =\n",
              "            await google.colab.kernel.invokeFunction('convertToInteractive',\n",
              "                                                     [key], {});\n",
              "          if (!dataTable) return;\n",
              "\n",
              "          const docLinkHtml = 'Like what you see? Visit the ' +\n",
              "            '<a target=\"_blank\" href=https://colab.research.google.com/notebooks/data_table.ipynb>data table notebook</a>'\n",
              "            + ' to learn more about interactive tables.';\n",
              "          element.innerHTML = '';\n",
              "          dataTable['output_type'] = 'display_data';\n",
              "          await google.colab.output.renderOutput(dataTable, element);\n",
              "          const docLink = document.createElement('div');\n",
              "          docLink.innerHTML = docLinkHtml;\n",
              "          element.appendChild(docLink);\n",
              "        }\n",
              "      </script>\n",
              "    </div>\n",
              "  </div>\n",
              "  "
            ]
          },
          "metadata": {},
          "execution_count": 105
        }
      ]
    },
    {
      "cell_type": "code",
      "source": [
        "dfOriginal.info()"
      ],
      "metadata": {
        "colab": {
          "base_uri": "https://localhost:8080/"
        },
        "id": "jU0Ov-lcQDeh",
        "outputId": "dd44ced8-1e94-4aba-b9c9-9907199826ee"
      },
      "execution_count": null,
      "outputs": [
        {
          "output_type": "stream",
          "name": "stdout",
          "text": [
            "<class 'pandas.core.frame.DataFrame'>\n",
            "RangeIndex: 429699 entries, 0 to 429698\n",
            "Data columns (total 15 columns):\n",
            " #   Column             Non-Null Count   Dtype  \n",
            "---  ------             --------------   -----  \n",
            " 0   FECHA_CORTE        429699 non-null  object \n",
            " 1   DEPARTAME_NOMBRE   429699 non-null  object \n",
            " 2   MUNICIPIO_NOMBRE   429699 non-null  object \n",
            " 3   ESTADO_FORMACION   429699 non-null  object \n",
            " 4   ESTADOS            429699 non-null  object \n",
            " 5   CONVOCATORIA       429699 non-null  int64  \n",
            " 6   ESTRATO_SOCIAL     429699 non-null  object \n",
            " 7   EDAD               429699 non-null  int64  \n",
            " 8   GENERO             429699 non-null  object \n",
            " 9   RUTA               429699 non-null  object \n",
            " 10  GRADO              429699 non-null  int64  \n",
            " 11  META_BENEFICIARIO  0 non-null       float64\n",
            " 12  INVERSION          0 non-null       float64\n",
            " 13  META_DINERO        0 non-null       float64\n",
            " 14  FECHA_VIGENCIA     429699 non-null  object \n",
            "dtypes: float64(3), int64(3), object(9)\n",
            "memory usage: 49.2+ MB\n"
          ]
        }
      ]
    },
    {
      "cell_type": "markdown",
      "source": [
        "Filtrando sólo matriculados"
      ],
      "metadata": {
        "id": "atQ45MBCUZuo"
      }
    },
    {
      "cell_type": "code",
      "source": [
        "df = dfOriginal[ (dfOriginal['ESTADO_FORMACION']=='MATRICULADO') | (dfOriginal['ESTADO_FORMACION']=='GRADUADO') ]"
      ],
      "metadata": {
        "id": "Br6x8d18TNfo"
      },
      "execution_count": null,
      "outputs": []
    },
    {
      "cell_type": "code",
      "source": [
        "df = df[['DEPARTAME_NOMBRE',\n",
        "         'ESTRATO_SOCIAL', 'EDAD', 'GENERO', 'RUTA', 'GRADO','ESTADOS']]\n"
      ],
      "metadata": {
        "id": "1cJWMyr3TRDt"
      },
      "execution_count": null,
      "outputs": []
    },
    {
      "cell_type": "code",
      "source": [
        "df['ESTUDIANTES'] = 1"
      ],
      "metadata": {
        "id": "xOWFM6E_gIiJ"
      },
      "execution_count": null,
      "outputs": []
    },
    {
      "cell_type": "code",
      "source": [
        "df.info()"
      ],
      "metadata": {
        "colab": {
          "base_uri": "https://localhost:8080/"
        },
        "id": "WC0I_W7wWyXX",
        "outputId": "3d99b9f3-9ef6-4eaa-a59a-f08614e82fc5"
      },
      "execution_count": null,
      "outputs": [
        {
          "output_type": "stream",
          "name": "stdout",
          "text": [
            "<class 'pandas.core.frame.DataFrame'>\n",
            "Int64Index: 62710 entries, 80 to 429697\n",
            "Data columns (total 8 columns):\n",
            " #   Column            Non-Null Count  Dtype \n",
            "---  ------            --------------  ----- \n",
            " 0   DEPARTAME_NOMBRE  62710 non-null  object\n",
            " 1   ESTRATO_SOCIAL    62710 non-null  object\n",
            " 2   EDAD              62710 non-null  int64 \n",
            " 3   GENERO            62710 non-null  object\n",
            " 4   RUTA              62710 non-null  object\n",
            " 5   GRADO             62710 non-null  int64 \n",
            " 6   ESTADOS           62710 non-null  object\n",
            " 7   ESTUDIANTES       62710 non-null  int64 \n",
            "dtypes: int64(3), object(5)\n",
            "memory usage: 4.3+ MB\n"
          ]
        }
      ]
    },
    {
      "cell_type": "code",
      "source": [
        "select = ['ESTADOS','ESTUDIANTES']\n",
        "grupos = ['ESTADOS']\n",
        "df_result = df[select].groupby(by=grupos).count()\n",
        "df_result.reset_index(inplace=True)\n",
        "df_result.sort_values(ascending=False, by=['ESTUDIANTES'], inplace=True)\n",
        "df_result"
      ],
      "metadata": {
        "colab": {
          "base_uri": "https://localhost:8080/",
          "height": 112
        },
        "id": "TRHoyY7_eHnC",
        "outputId": "10ed21cb-c0c7-4ddf-cb6e-a8f92906218d"
      },
      "execution_count": null,
      "outputs": [
        {
          "output_type": "execute_result",
          "data": {
            "text/plain": [
              "        ESTADOS  ESTUDIANTES\n",
              "0  BENEFICIARIO        60034\n",
              "1      GRADUADO         2676"
            ],
            "text/html": [
              "\n",
              "  <div id=\"df-a72b93f6-2f0e-456c-865c-776c850ea22e\">\n",
              "    <div class=\"colab-df-container\">\n",
              "      <div>\n",
              "<style scoped>\n",
              "    .dataframe tbody tr th:only-of-type {\n",
              "        vertical-align: middle;\n",
              "    }\n",
              "\n",
              "    .dataframe tbody tr th {\n",
              "        vertical-align: top;\n",
              "    }\n",
              "\n",
              "    .dataframe thead th {\n",
              "        text-align: right;\n",
              "    }\n",
              "</style>\n",
              "<table border=\"1\" class=\"dataframe\">\n",
              "  <thead>\n",
              "    <tr style=\"text-align: right;\">\n",
              "      <th></th>\n",
              "      <th>ESTADOS</th>\n",
              "      <th>ESTUDIANTES</th>\n",
              "    </tr>\n",
              "  </thead>\n",
              "  <tbody>\n",
              "    <tr>\n",
              "      <th>0</th>\n",
              "      <td>BENEFICIARIO</td>\n",
              "      <td>60034</td>\n",
              "    </tr>\n",
              "    <tr>\n",
              "      <th>1</th>\n",
              "      <td>GRADUADO</td>\n",
              "      <td>2676</td>\n",
              "    </tr>\n",
              "  </tbody>\n",
              "</table>\n",
              "</div>\n",
              "      <button class=\"colab-df-convert\" onclick=\"convertToInteractive('df-a72b93f6-2f0e-456c-865c-776c850ea22e')\"\n",
              "              title=\"Convert this dataframe to an interactive table.\"\n",
              "              style=\"display:none;\">\n",
              "        \n",
              "  <svg xmlns=\"http://www.w3.org/2000/svg\" height=\"24px\"viewBox=\"0 0 24 24\"\n",
              "       width=\"24px\">\n",
              "    <path d=\"M0 0h24v24H0V0z\" fill=\"none\"/>\n",
              "    <path d=\"M18.56 5.44l.94 2.06.94-2.06 2.06-.94-2.06-.94-.94-2.06-.94 2.06-2.06.94zm-11 1L8.5 8.5l.94-2.06 2.06-.94-2.06-.94L8.5 2.5l-.94 2.06-2.06.94zm10 10l.94 2.06.94-2.06 2.06-.94-2.06-.94-.94-2.06-.94 2.06-2.06.94z\"/><path d=\"M17.41 7.96l-1.37-1.37c-.4-.4-.92-.59-1.43-.59-.52 0-1.04.2-1.43.59L10.3 9.45l-7.72 7.72c-.78.78-.78 2.05 0 2.83L4 21.41c.39.39.9.59 1.41.59.51 0 1.02-.2 1.41-.59l7.78-7.78 2.81-2.81c.8-.78.8-2.07 0-2.86zM5.41 20L4 18.59l7.72-7.72 1.47 1.35L5.41 20z\"/>\n",
              "  </svg>\n",
              "      </button>\n",
              "      \n",
              "  <style>\n",
              "    .colab-df-container {\n",
              "      display:flex;\n",
              "      flex-wrap:wrap;\n",
              "      gap: 12px;\n",
              "    }\n",
              "\n",
              "    .colab-df-convert {\n",
              "      background-color: #E8F0FE;\n",
              "      border: none;\n",
              "      border-radius: 50%;\n",
              "      cursor: pointer;\n",
              "      display: none;\n",
              "      fill: #1967D2;\n",
              "      height: 32px;\n",
              "      padding: 0 0 0 0;\n",
              "      width: 32px;\n",
              "    }\n",
              "\n",
              "    .colab-df-convert:hover {\n",
              "      background-color: #E2EBFA;\n",
              "      box-shadow: 0px 1px 2px rgba(60, 64, 67, 0.3), 0px 1px 3px 1px rgba(60, 64, 67, 0.15);\n",
              "      fill: #174EA6;\n",
              "    }\n",
              "\n",
              "    [theme=dark] .colab-df-convert {\n",
              "      background-color: #3B4455;\n",
              "      fill: #D2E3FC;\n",
              "    }\n",
              "\n",
              "    [theme=dark] .colab-df-convert:hover {\n",
              "      background-color: #434B5C;\n",
              "      box-shadow: 0px 1px 3px 1px rgba(0, 0, 0, 0.15);\n",
              "      filter: drop-shadow(0px 1px 2px rgba(0, 0, 0, 0.3));\n",
              "      fill: #FFFFFF;\n",
              "    }\n",
              "  </style>\n",
              "\n",
              "      <script>\n",
              "        const buttonEl =\n",
              "          document.querySelector('#df-a72b93f6-2f0e-456c-865c-776c850ea22e button.colab-df-convert');\n",
              "        buttonEl.style.display =\n",
              "          google.colab.kernel.accessAllowed ? 'block' : 'none';\n",
              "\n",
              "        async function convertToInteractive(key) {\n",
              "          const element = document.querySelector('#df-a72b93f6-2f0e-456c-865c-776c850ea22e');\n",
              "          const dataTable =\n",
              "            await google.colab.kernel.invokeFunction('convertToInteractive',\n",
              "                                                     [key], {});\n",
              "          if (!dataTable) return;\n",
              "\n",
              "          const docLinkHtml = 'Like what you see? Visit the ' +\n",
              "            '<a target=\"_blank\" href=https://colab.research.google.com/notebooks/data_table.ipynb>data table notebook</a>'\n",
              "            + ' to learn more about interactive tables.';\n",
              "          element.innerHTML = '';\n",
              "          dataTable['output_type'] = 'display_data';\n",
              "          await google.colab.output.renderOutput(dataTable, element);\n",
              "          const docLink = document.createElement('div');\n",
              "          docLink.innerHTML = docLinkHtml;\n",
              "          element.appendChild(docLink);\n",
              "        }\n",
              "      </script>\n",
              "    </div>\n",
              "  </div>\n",
              "  "
            ]
          },
          "metadata": {},
          "execution_count": 62
        }
      ]
    },
    {
      "cell_type": "markdown",
      "source": [
        "Reemplazando el texto Beneficiario por no graduado"
      ],
      "metadata": {
        "id": "Wps3b1nXfhwQ"
      }
    },
    {
      "cell_type": "code",
      "source": [
        "df['ESTADOS'] = df['ESTADOS'].replace(['BENEFICIARIO'],'NO GRADUADO')\n",
        "df['GRADUADO'] =  (df[\"ESTADOS\"].replace({'GRADUADO': 1, 'NO GRADUADO': 0}))\n",
        "\n"
      ],
      "metadata": {
        "id": "rCsmsek0d2P0"
      },
      "execution_count": null,
      "outputs": []
    },
    {
      "cell_type": "markdown",
      "source": [
        "Revisando la columna departamento"
      ],
      "metadata": {
        "id": "ybhrJK24hHRG"
      }
    },
    {
      "cell_type": "code",
      "source": [
        "df['DEPARTAME_NOMBRE'].unique()"
      ],
      "metadata": {
        "colab": {
          "base_uri": "https://localhost:8080/"
        },
        "id": "nFrvLwinVg9r",
        "outputId": "e1a79743-dc5d-4f76-8003-6fc9233a90b8"
      },
      "execution_count": null,
      "outputs": [
        {
          "output_type": "execute_result",
          "data": {
            "text/plain": [
              "array(['CORDOBA', 'BOYACA', 'CALDAS', 'SANTANDER', 'VALLE DEL CAUCA',\n",
              "       'NORTE DE SANTANDER', 'TOLIMA', 'BOGOTA', 'CUNDINAMARCA',\n",
              "       'GUAVIARE', 'HUILA', 'RISARALDA', 'MAGDALENA', 'ATLANTICO',\n",
              "       'BOLIVAR', 'QUINDIO', 'CAUCA', 'ANTIOQUIA', 'NARIÑO', 'CESAR',\n",
              "       'CASANARE', 'PUTUMAYO', 'CAQUETA', 'META', 'CHOCO', 'LA GUAJIRA',\n",
              "       'SUCRE', 'GUAINIA', 'PENDIENTE CLASIFICAR', 'ARAUCA', 'VICHADA',\n",
              "       'AMAZONAS', 'SAN ANDRES Y PROVIDENCIA', 'VAUPES'], dtype=object)"
            ]
          },
          "metadata": {},
          "execution_count": 64
        }
      ]
    },
    {
      "cell_type": "code",
      "source": [
        "df_result = df[ (df['DEPARTAME_NOMBRE']=='PENDIENTE CLASIFICAR')  ]\n",
        "\n",
        "sns.catplot(x='DEPARTAME_NOMBRE', data=df_result, kind='count');\n",
        " \n"
      ],
      "metadata": {
        "colab": {
          "base_uri": "https://localhost:8080/",
          "height": 369
        },
        "id": "RQhL-b5mWxux",
        "outputId": "d68a6d47-50fc-4ed9-ab38-f68c33da9957"
      },
      "execution_count": null,
      "outputs": [
        {
          "output_type": "display_data",
          "data": {
            "text/plain": [
              "<Figure size 360x360 with 1 Axes>"
            ],
            "image/png": "[encoded data removed]"
          },
          "metadata": {
            "needs_background": "light"
          }
        }
      ]
    },
    {
      "cell_type": "markdown",
      "source": [
        "Quitando registros con el departamento sin clasificar"
      ],
      "metadata": {
        "id": "XXh_2ErKYikG"
      }
    },
    {
      "cell_type": "code",
      "source": [
        "df = df[ (df['DEPARTAME_NOMBRE']!='PENDIENTE CLASIFICAR')  ]"
      ],
      "metadata": {
        "id": "YBFIcQoxXkJ6"
      },
      "execution_count": null,
      "outputs": []
    },
    {
      "cell_type": "markdown",
      "source": [
        "Revisando la columna estrato social"
      ],
      "metadata": {
        "id": "V5XqP78Uj-4k"
      }
    },
    {
      "cell_type": "code",
      "source": [
        "\n",
        "select = ['ESTRATO_SOCIAL','ESTUDIANTES']\n",
        "grupos = ['ESTRATO_SOCIAL']\n",
        "df_result = df[select].groupby(by=grupos).count()\n",
        "df_result.reset_index(inplace=True)\n",
        "df_result.sort_values(ascending=False, by=['ESTUDIANTES'], inplace=True)\n",
        "df_result\n",
        "\n"
      ],
      "metadata": {
        "colab": {
          "base_uri": "https://localhost:8080/",
          "height": 269
        },
        "id": "3zDXygZhUh8d",
        "outputId": "c2b1bb37-f860-4de1-bb1a-cdb8e910bf05"
      },
      "execution_count": null,
      "outputs": [
        {
          "output_type": "execute_result",
          "data": {
            "text/plain": [
              "  ESTRATO_SOCIAL  ESTUDIANTES\n",
              "1              2        23829\n",
              "2              3        21069\n",
              "0              1        11643\n",
              "3              4         4638\n",
              "4              5          959\n",
              "5              6          245\n",
              "6              a          169"
            ],
            "text/html": [
              "\n",
              "  <div id=\"df-d45e5fd8-bb3b-4a72-8f1c-987718ca3ee8\">\n",
              "    <div class=\"colab-df-container\">\n",
              "      <div>\n",
              "<style scoped>\n",
              "    .dataframe tbody tr th:only-of-type {\n",
              "        vertical-align: middle;\n",
              "    }\n",
              "\n",
              "    .dataframe tbody tr th {\n",
              "        vertical-align: top;\n",
              "    }\n",
              "\n",
              "    .dataframe thead th {\n",
              "        text-align: right;\n",
              "    }\n",
              "</style>\n",
              "<table border=\"1\" class=\"dataframe\">\n",
              "  <thead>\n",
              "    <tr style=\"text-align: right;\">\n",
              "      <th></th>\n",
              "      <th>ESTRATO_SOCIAL</th>\n",
              "      <th>ESTUDIANTES</th>\n",
              "    </tr>\n",
              "  </thead>\n",
              "  <tbody>\n",
              "    <tr>\n",
              "      <th>1</th>\n",
              "      <td>2</td>\n",
              "      <td>23829</td>\n",
              "    </tr>\n",
              "    <tr>\n",
              "      <th>2</th>\n",
              "      <td>3</td>\n",
              "      <td>21069</td>\n",
              "    </tr>\n",
              "    <tr>\n",
              "      <th>0</th>\n",
              "      <td>1</td>\n",
              "      <td>11643</td>\n",
              "    </tr>\n",
              "    <tr>\n",
              "      <th>3</th>\n",
              "      <td>4</td>\n",
              "      <td>4638</td>\n",
              "    </tr>\n",
              "    <tr>\n",
              "      <th>4</th>\n",
              "      <td>5</td>\n",
              "      <td>959</td>\n",
              "    </tr>\n",
              "    <tr>\n",
              "      <th>5</th>\n",
              "      <td>6</td>\n",
              "      <td>245</td>\n",
              "    </tr>\n",
              "    <tr>\n",
              "      <th>6</th>\n",
              "      <td>a</td>\n",
              "      <td>169</td>\n",
              "    </tr>\n",
              "  </tbody>\n",
              "</table>\n",
              "</div>\n",
              "      <button class=\"colab-df-convert\" onclick=\"convertToInteractive('df-d45e5fd8-bb3b-4a72-8f1c-987718ca3ee8')\"\n",
              "              title=\"Convert this dataframe to an interactive table.\"\n",
              "              style=\"display:none;\">\n",
              "        \n",
              "  <svg xmlns=\"http://www.w3.org/2000/svg\" height=\"24px\"viewBox=\"0 0 24 24\"\n",
              "       width=\"24px\">\n",
              "    <path d=\"M0 0h24v24H0V0z\" fill=\"none\"/>\n",
              "    <path d=\"M18.56 5.44l.94 2.06.94-2.06 2.06-.94-2.06-.94-.94-2.06-.94 2.06-2.06.94zm-11 1L8.5 8.5l.94-2.06 2.06-.94-2.06-.94L8.5 2.5l-.94 2.06-2.06.94zm10 10l.94 2.06.94-2.06 2.06-.94-2.06-.94-.94-2.06-.94 2.06-2.06.94z\"/><path d=\"M17.41 7.96l-1.37-1.37c-.4-.4-.92-.59-1.43-.59-.52 0-1.04.2-1.43.59L10.3 9.45l-7.72 7.72c-.78.78-.78 2.05 0 2.83L4 21.41c.39.39.9.59 1.41.59.51 0 1.02-.2 1.41-.59l7.78-7.78 2.81-2.81c.8-.78.8-2.07 0-2.86zM5.41 20L4 18.59l7.72-7.72 1.47 1.35L5.41 20z\"/>\n",
              "  </svg>\n",
              "      </button>\n",
              "      \n",
              "  <style>\n",
              "    .colab-df-container {\n",
              "      display:flex;\n",
              "      flex-wrap:wrap;\n",
              "      gap: 12px;\n",
              "    }\n",
              "\n",
              "    .colab-df-convert {\n",
              "      background-color: #E8F0FE;\n",
              "      border: none;\n",
              "      border-radius: 50%;\n",
              "      cursor: pointer;\n",
              "      display: none;\n",
              "      fill: #1967D2;\n",
              "      height: 32px;\n",
              "      padding: 0 0 0 0;\n",
              "      width: 32px;\n",
              "    }\n",
              "\n",
              "    .colab-df-convert:hover {\n",
              "      background-color: #E2EBFA;\n",
              "      box-shadow: 0px 1px 2px rgba(60, 64, 67, 0.3), 0px 1px 3px 1px rgba(60, 64, 67, 0.15);\n",
              "      fill: #174EA6;\n",
              "    }\n",
              "\n",
              "    [theme=dark] .colab-df-convert {\n",
              "      background-color: #3B4455;\n",
              "      fill: #D2E3FC;\n",
              "    }\n",
              "\n",
              "    [theme=dark] .colab-df-convert:hover {\n",
              "      background-color: #434B5C;\n",
              "      box-shadow: 0px 1px 3px 1px rgba(0, 0, 0, 0.15);\n",
              "      filter: drop-shadow(0px 1px 2px rgba(0, 0, 0, 0.3));\n",
              "      fill: #FFFFFF;\n",
              "    }\n",
              "  </style>\n",
              "\n",
              "      <script>\n",
              "        const buttonEl =\n",
              "          document.querySelector('#df-d45e5fd8-bb3b-4a72-8f1c-987718ca3ee8 button.colab-df-convert');\n",
              "        buttonEl.style.display =\n",
              "          google.colab.kernel.accessAllowed ? 'block' : 'none';\n",
              "\n",
              "        async function convertToInteractive(key) {\n",
              "          const element = document.querySelector('#df-d45e5fd8-bb3b-4a72-8f1c-987718ca3ee8');\n",
              "          const dataTable =\n",
              "            await google.colab.kernel.invokeFunction('convertToInteractive',\n",
              "                                                     [key], {});\n",
              "          if (!dataTable) return;\n",
              "\n",
              "          const docLinkHtml = 'Like what you see? Visit the ' +\n",
              "            '<a target=\"_blank\" href=https://colab.research.google.com/notebooks/data_table.ipynb>data table notebook</a>'\n",
              "            + ' to learn more about interactive tables.';\n",
              "          element.innerHTML = '';\n",
              "          dataTable['output_type'] = 'display_data';\n",
              "          await google.colab.output.renderOutput(dataTable, element);\n",
              "          const docLink = document.createElement('div');\n",
              "          docLink.innerHTML = docLinkHtml;\n",
              "          element.appendChild(docLink);\n",
              "        }\n",
              "      </script>\n",
              "    </div>\n",
              "  </div>\n",
              "  "
            ]
          },
          "metadata": {},
          "execution_count": 67
        }
      ]
    },
    {
      "cell_type": "markdown",
      "source": [
        "Se quitarán registros con estrato social 'a'"
      ],
      "metadata": {
        "id": "ISJz9eszkxc8"
      }
    },
    {
      "cell_type": "code",
      "source": [
        "df = df[ (df['ESTRATO_SOCIAL']!='a')  ]"
      ],
      "metadata": {
        "id": "gE55hP9wkq3p"
      },
      "execution_count": null,
      "outputs": []
    },
    {
      "cell_type": "markdown",
      "source": [
        "Analizando la columna EDAD"
      ],
      "metadata": {
        "id": "CNnpJg1YlVZH"
      }
    },
    {
      "cell_type": "code",
      "source": [
        "sns.histplot(data=df, x=\"EDAD\")"
      ],
      "metadata": {
        "colab": {
          "base_uri": "https://localhost:8080/",
          "height": 296
        },
        "id": "WRg_oJAjVx8h",
        "outputId": "ef462a29-43fc-49ad-9f17-48f07b729fec"
      },
      "execution_count": null,
      "outputs": [
        {
          "output_type": "execute_result",
          "data": {
            "text/plain": [
              "<matplotlib.axes._subplots.AxesSubplot at 0x7fd1dc65e610>"
            ]
          },
          "metadata": {},
          "execution_count": 69
        },
        {
          "output_type": "display_data",
          "data": {
            "text/plain": [
              "<Figure size 432x288 with 1 Axes>"
            ],
            "image/png": "[encoded data removed]"
          },
          "metadata": {
            "needs_background": "light"
          }
        }
      ]
    },
    {
      "cell_type": "code",
      "source": [
        "\n",
        "select = ['EDAD','ESTUDIANTES']\n",
        "grupos = ['EDAD']\n",
        "df_result = df[select].groupby(by=grupos).count()\n",
        "df_result.reset_index(inplace=True)\n",
        "df_result.sort_values(ascending=False, by=['EDAD'], inplace=True)\n",
        "df_result"
      ],
      "metadata": {
        "colab": {
          "base_uri": "https://localhost:8080/",
          "height": 424
        },
        "id": "8uuozaP4lh0S",
        "outputId": "731d469f-8928-4ffe-cf73-6addd4ce3c85"
      },
      "execution_count": null,
      "outputs": [
        {
          "output_type": "execute_result",
          "data": {
            "text/plain": [
              "    EDAD  ESTUDIANTES\n",
              "70   121          648\n",
              "69   120           19\n",
              "68   104            1\n",
              "67    97            2\n",
              "66    78            1\n",
              "..   ...          ...\n",
              "4     13           24\n",
              "3      8            1\n",
              "2      5            1\n",
              "1      4            1\n",
              "0      0           36\n",
              "\n",
              "[71 rows x 2 columns]"
            ],
            "text/html": [
              "\n",
              "  <div id=\"df-6fa34c5e-ce0a-4e0e-aa0e-2c3e128f40ff\">\n",
              "    <div class=\"colab-df-container\">\n",
              "      <div>\n",
              "<style scoped>\n",
              "    .dataframe tbody tr th:only-of-type {\n",
              "        vertical-align: middle;\n",
              "    }\n",
              "\n",
              "    .dataframe tbody tr th {\n",
              "        vertical-align: top;\n",
              "    }\n",
              "\n",
              "    .dataframe thead th {\n",
              "        text-align: right;\n",
              "    }\n",
              "</style>\n",
              "<table border=\"1\" class=\"dataframe\">\n",
              "  <thead>\n",
              "    <tr style=\"text-align: right;\">\n",
              "      <th></th>\n",
              "      <th>EDAD</th>\n",
              "      <th>ESTUDIANTES</th>\n",
              "    </tr>\n",
              "  </thead>\n",
              "  <tbody>\n",
              "    <tr>\n",
              "      <th>70</th>\n",
              "      <td>121</td>\n",
              "      <td>648</td>\n",
              "    </tr>\n",
              "    <tr>\n",
              "      <th>69</th>\n",
              "      <td>120</td>\n",
              "      <td>19</td>\n",
              "    </tr>\n",
              "    <tr>\n",
              "      <th>68</th>\n",
              "      <td>104</td>\n",
              "      <td>1</td>\n",
              "    </tr>\n",
              "    <tr>\n",
              "      <th>67</th>\n",
              "      <td>97</td>\n",
              "      <td>2</td>\n",
              "    </tr>\n",
              "    <tr>\n",
              "      <th>66</th>\n",
              "      <td>78</td>\n",
              "      <td>1</td>\n",
              "    </tr>\n",
              "    <tr>\n",
              "      <th>...</th>\n",
              "      <td>...</td>\n",
              "      <td>...</td>\n",
              "    </tr>\n",
              "    <tr>\n",
              "      <th>4</th>\n",
              "      <td>13</td>\n",
              "      <td>24</td>\n",
              "    </tr>\n",
              "    <tr>\n",
              "      <th>3</th>\n",
              "      <td>8</td>\n",
              "      <td>1</td>\n",
              "    </tr>\n",
              "    <tr>\n",
              "      <th>2</th>\n",
              "      <td>5</td>\n",
              "      <td>1</td>\n",
              "    </tr>\n",
              "    <tr>\n",
              "      <th>1</th>\n",
              "      <td>4</td>\n",
              "      <td>1</td>\n",
              "    </tr>\n",
              "    <tr>\n",
              "      <th>0</th>\n",
              "      <td>0</td>\n",
              "      <td>36</td>\n",
              "    </tr>\n",
              "  </tbody>\n",
              "</table>\n",
              "<p>71 rows × 2 columns</p>\n",
              "</div>\n",
              "      <button class=\"colab-df-convert\" onclick=\"convertToInteractive('df-6fa34c5e-ce0a-4e0e-aa0e-2c3e128f40ff')\"\n",
              "              title=\"Convert this dataframe to an interactive table.\"\n",
              "              style=\"display:none;\">\n",
              "        \n",
              "  <svg xmlns=\"http://www.w3.org/2000/svg\" height=\"24px\"viewBox=\"0 0 24 24\"\n",
              "       width=\"24px\">\n",
              "    <path d=\"M0 0h24v24H0V0z\" fill=\"none\"/>\n",
              "    <path d=\"M18.56 5.44l.94 2.06.94-2.06 2.06-.94-2.06-.94-.94-2.06-.94 2.06-2.06.94zm-11 1L8.5 8.5l.94-2.06 2.06-.94-2.06-.94L8.5 2.5l-.94 2.06-2.06.94zm10 10l.94 2.06.94-2.06 2.06-.94-2.06-.94-.94-2.06-.94 2.06-2.06.94z\"/><path d=\"M17.41 7.96l-1.37-1.37c-.4-.4-.92-.59-1.43-.59-.52 0-1.04.2-1.43.59L10.3 9.45l-7.72 7.72c-.78.78-.78 2.05 0 2.83L4 21.41c.39.39.9.59 1.41.59.51 0 1.02-.2 1.41-.59l7.78-7.78 2.81-2.81c.8-.78.8-2.07 0-2.86zM5.41 20L4 18.59l7.72-7.72 1.47 1.35L5.41 20z\"/>\n",
              "  </svg>\n",
              "      </button>\n",
              "      \n",
              "  <style>\n",
              "    .colab-df-container {\n",
              "      display:flex;\n",
              "      flex-wrap:wrap;\n",
              "      gap: 12px;\n",
              "    }\n",
              "\n",
              "    .colab-df-convert {\n",
              "      background-color: #E8F0FE;\n",
              "      border: none;\n",
              "      border-radius: 50%;\n",
              "      cursor: pointer;\n",
              "      display: none;\n",
              "      fill: #1967D2;\n",
              "      height: 32px;\n",
              "      padding: 0 0 0 0;\n",
              "      width: 32px;\n",
              "    }\n",
              "\n",
              "    .colab-df-convert:hover {\n",
              "      background-color: #E2EBFA;\n",
              "      box-shadow: 0px 1px 2px rgba(60, 64, 67, 0.3), 0px 1px 3px 1px rgba(60, 64, 67, 0.15);\n",
              "      fill: #174EA6;\n",
              "    }\n",
              "\n",
              "    [theme=dark] .colab-df-convert {\n",
              "      background-color: #3B4455;\n",
              "      fill: #D2E3FC;\n",
              "    }\n",
              "\n",
              "    [theme=dark] .colab-df-convert:hover {\n",
              "      background-color: #434B5C;\n",
              "      box-shadow: 0px 1px 3px 1px rgba(0, 0, 0, 0.15);\n",
              "      filter: drop-shadow(0px 1px 2px rgba(0, 0, 0, 0.3));\n",
              "      fill: #FFFFFF;\n",
              "    }\n",
              "  </style>\n",
              "\n",
              "      <script>\n",
              "        const buttonEl =\n",
              "          document.querySelector('#df-6fa34c5e-ce0a-4e0e-aa0e-2c3e128f40ff button.colab-df-convert');\n",
              "        buttonEl.style.display =\n",
              "          google.colab.kernel.accessAllowed ? 'block' : 'none';\n",
              "\n",
              "        async function convertToInteractive(key) {\n",
              "          const element = document.querySelector('#df-6fa34c5e-ce0a-4e0e-aa0e-2c3e128f40ff');\n",
              "          const dataTable =\n",
              "            await google.colab.kernel.invokeFunction('convertToInteractive',\n",
              "                                                     [key], {});\n",
              "          if (!dataTable) return;\n",
              "\n",
              "          const docLinkHtml = 'Like what you see? Visit the ' +\n",
              "            '<a target=\"_blank\" href=https://colab.research.google.com/notebooks/data_table.ipynb>data table notebook</a>'\n",
              "            + ' to learn more about interactive tables.';\n",
              "          element.innerHTML = '';\n",
              "          dataTable['output_type'] = 'display_data';\n",
              "          await google.colab.output.renderOutput(dataTable, element);\n",
              "          const docLink = document.createElement('div');\n",
              "          docLink.innerHTML = docLinkHtml;\n",
              "          element.appendChild(docLink);\n",
              "        }\n",
              "      </script>\n",
              "    </div>\n",
              "  </div>\n",
              "  "
            ]
          },
          "metadata": {},
          "execution_count": 70
        }
      ]
    },
    {
      "cell_type": "markdown",
      "source": [
        "Se removerán registros con edades atípicas, es decir < 13 y > 100"
      ],
      "metadata": {
        "id": "2z1QzK9Wl42X"
      }
    },
    {
      "cell_type": "code",
      "source": [
        "df = df[ (df['EDAD']>=13) & (df['EDAD']<=100 )  ]\n"
      ],
      "metadata": {
        "id": "eppxmwq0mIYs"
      },
      "execution_count": null,
      "outputs": []
    },
    {
      "cell_type": "code",
      "source": [
        "df.head(100)"
      ],
      "metadata": {
        "colab": {
          "base_uri": "https://localhost:8080/",
          "height": 424
        },
        "id": "2NROP9GgAZLC",
        "outputId": "256faac5-63c9-45e6-9f3e-f7c06f5783cb"
      },
      "execution_count": null,
      "outputs": [
        {
          "output_type": "execute_result",
          "data": {
            "text/plain": [
              "    DEPARTAME_NOMBRE ESTRATO_SOCIAL  EDAD     GENERO    RUTA  GRADO  \\\n",
              "80           CORDOBA              1    22   FEMENINO  RUTA 2     -1   \n",
              "123           BOYACA              2    22   FEMENINO  RUTA 2     -1   \n",
              "148           BOYACA              2    15   FEMENINO  RUTA 1     10   \n",
              "149           CALDAS              2    16   FEMENINO  RUTA 1     10   \n",
              "186        SANTANDER              4    41  MASCULINO  RUTA 2     -1   \n",
              "..               ...            ...   ...        ...     ...    ...   \n",
              "740         CASANARE              2    24  MASCULINO  RUTA 2     -1   \n",
              "741         CASANARE              2    24  MASCULINO  RUTA 2     -1   \n",
              "742         CASANARE              2    24  MASCULINO  RUTA 2     -1   \n",
              "743         CASANARE              2    24  MASCULINO  RUTA 2     -1   \n",
              "757           NARIÑO              2    21  MASCULINO  RUTA 2     -1   \n",
              "\n",
              "         ESTADOS  ESTUDIANTES  GRADUADO  \n",
              "80   NO GRADUADO            1         0  \n",
              "123     GRADUADO            1         1  \n",
              "148     GRADUADO            1         1  \n",
              "149  NO GRADUADO            1         0  \n",
              "186  NO GRADUADO            1         0  \n",
              "..           ...          ...       ...  \n",
              "740  NO GRADUADO            1         0  \n",
              "741  NO GRADUADO            1         0  \n",
              "742  NO GRADUADO            1         0  \n",
              "743  NO GRADUADO            1         0  \n",
              "757  NO GRADUADO            1         0  \n",
              "\n",
              "[100 rows x 9 columns]"
            ],
            "text/html": [
              "\n",
              "  <div id=\"df-21cc081a-ed7d-47c7-9c6a-91718ad28ea4\">\n",
              "    <div class=\"colab-df-container\">\n",
              "      <div>\n",
              "<style scoped>\n",
              "    .dataframe tbody tr th:only-of-type {\n",
              "        vertical-align: middle;\n",
              "    }\n",
              "\n",
              "    .dataframe tbody tr th {\n",
              "        vertical-align: top;\n",
              "    }\n",
              "\n",
              "    .dataframe thead th {\n",
              "        text-align: right;\n",
              "    }\n",
              "</style>\n",
              "<table border=\"1\" class=\"dataframe\">\n",
              "  <thead>\n",
              "    <tr style=\"text-align: right;\">\n",
              "      <th></th>\n",
              "      <th>DEPARTAME_NOMBRE</th>\n",
              "      <th>ESTRATO_SOCIAL</th>\n",
              "      <th>EDAD</th>\n",
              "      <th>GENERO</th>\n",
              "      <th>RUTA</th>\n",
              "      <th>GRADO</th>\n",
              "      <th>ESTADOS</th>\n",
              "      <th>ESTUDIANTES</th>\n",
              "      <th>GRADUADO</th>\n",
              "    </tr>\n",
              "  </thead>\n",
              "  <tbody>\n",
              "    <tr>\n",
              "      <th>80</th>\n",
              "      <td>CORDOBA</td>\n",
              "      <td>1</td>\n",
              "      <td>22</td>\n",
              "      <td>FEMENINO</td>\n",
              "      <td>RUTA 2</td>\n",
              "      <td>-1</td>\n",
              "      <td>NO GRADUADO</td>\n",
              "      <td>1</td>\n",
              "      <td>0</td>\n",
              "    </tr>\n",
              "    <tr>\n",
              "      <th>123</th>\n",
              "      <td>BOYACA</td>\n",
              "      <td>2</td>\n",
              "      <td>22</td>\n",
              "      <td>FEMENINO</td>\n",
              "      <td>RUTA 2</td>\n",
              "      <td>-1</td>\n",
              "      <td>GRADUADO</td>\n",
              "      <td>1</td>\n",
              "      <td>1</td>\n",
              "    </tr>\n",
              "    <tr>\n",
              "      <th>148</th>\n",
              "      <td>BOYACA</td>\n",
              "      <td>2</td>\n",
              "      <td>15</td>\n",
              "      <td>FEMENINO</td>\n",
              "      <td>RUTA 1</td>\n",
              "      <td>10</td>\n",
              "      <td>GRADUADO</td>\n",
              "      <td>1</td>\n",
              "      <td>1</td>\n",
              "    </tr>\n",
              "    <tr>\n",
              "      <th>149</th>\n",
              "      <td>CALDAS</td>\n",
              "      <td>2</td>\n",
              "      <td>16</td>\n",
              "      <td>FEMENINO</td>\n",
              "      <td>RUTA 1</td>\n",
              "      <td>10</td>\n",
              "      <td>NO GRADUADO</td>\n",
              "      <td>1</td>\n",
              "      <td>0</td>\n",
              "    </tr>\n",
              "    <tr>\n",
              "      <th>186</th>\n",
              "      <td>SANTANDER</td>\n",
              "      <td>4</td>\n",
              "      <td>41</td>\n",
              "      <td>MASCULINO</td>\n",
              "      <td>RUTA 2</td>\n",
              "      <td>-1</td>\n",
              "      <td>NO GRADUADO</td>\n",
              "      <td>1</td>\n",
              "      <td>0</td>\n",
              "    </tr>\n",
              "    <tr>\n",
              "      <th>...</th>\n",
              "      <td>...</td>\n",
              "      <td>...</td>\n",
              "      <td>...</td>\n",
              "      <td>...</td>\n",
              "      <td>...</td>\n",
              "      <td>...</td>\n",
              "      <td>...</td>\n",
              "      <td>...</td>\n",
              "      <td>...</td>\n",
              "    </tr>\n",
              "    <tr>\n",
              "      <th>740</th>\n",
              "      <td>CASANARE</td>\n",
              "      <td>2</td>\n",
              "      <td>24</td>\n",
              "      <td>MASCULINO</td>\n",
              "      <td>RUTA 2</td>\n",
              "      <td>-1</td>\n",
              "      <td>NO GRADUADO</td>\n",
              "      <td>1</td>\n",
              "      <td>0</td>\n",
              "    </tr>\n",
              "    <tr>\n",
              "      <th>741</th>\n",
              "      <td>CASANARE</td>\n",
              "      <td>2</td>\n",
              "      <td>24</td>\n",
              "      <td>MASCULINO</td>\n",
              "      <td>RUTA 2</td>\n",
              "      <td>-1</td>\n",
              "      <td>NO GRADUADO</td>\n",
              "      <td>1</td>\n",
              "      <td>0</td>\n",
              "    </tr>\n",
              "    <tr>\n",
              "      <th>742</th>\n",
              "      <td>CASANARE</td>\n",
              "      <td>2</td>\n",
              "      <td>24</td>\n",
              "      <td>MASCULINO</td>\n",
              "      <td>RUTA 2</td>\n",
              "      <td>-1</td>\n",
              "      <td>NO GRADUADO</td>\n",
              "      <td>1</td>\n",
              "      <td>0</td>\n",
              "    </tr>\n",
              "    <tr>\n",
              "      <th>743</th>\n",
              "      <td>CASANARE</td>\n",
              "      <td>2</td>\n",
              "      <td>24</td>\n",
              "      <td>MASCULINO</td>\n",
              "      <td>RUTA 2</td>\n",
              "      <td>-1</td>\n",
              "      <td>NO GRADUADO</td>\n",
              "      <td>1</td>\n",
              "      <td>0</td>\n",
              "    </tr>\n",
              "    <tr>\n",
              "      <th>757</th>\n",
              "      <td>NARIÑO</td>\n",
              "      <td>2</td>\n",
              "      <td>21</td>\n",
              "      <td>MASCULINO</td>\n",
              "      <td>RUTA 2</td>\n",
              "      <td>-1</td>\n",
              "      <td>NO GRADUADO</td>\n",
              "      <td>1</td>\n",
              "      <td>0</td>\n",
              "    </tr>\n",
              "  </tbody>\n",
              "</table>\n",
              "<p>100 rows × 9 columns</p>\n",
              "</div>\n",
              "      <button class=\"colab-df-convert\" onclick=\"convertToInteractive('df-21cc081a-ed7d-47c7-9c6a-91718ad28ea4')\"\n",
              "              title=\"Convert this dataframe to an interactive table.\"\n",
              "              style=\"display:none;\">\n",
              "        \n",
              "  <svg xmlns=\"http://www.w3.org/2000/svg\" height=\"24px\"viewBox=\"0 0 24 24\"\n",
              "       width=\"24px\">\n",
              "    <path d=\"M0 0h24v24H0V0z\" fill=\"none\"/>\n",
              "    <path d=\"M18.56 5.44l.94 2.06.94-2.06 2.06-.94-2.06-.94-.94-2.06-.94 2.06-2.06.94zm-11 1L8.5 8.5l.94-2.06 2.06-.94-2.06-.94L8.5 2.5l-.94 2.06-2.06.94zm10 10l.94 2.06.94-2.06 2.06-.94-2.06-.94-.94-2.06-.94 2.06-2.06.94z\"/><path d=\"M17.41 7.96l-1.37-1.37c-.4-.4-.92-.59-1.43-.59-.52 0-1.04.2-1.43.59L10.3 9.45l-7.72 7.72c-.78.78-.78 2.05 0 2.83L4 21.41c.39.39.9.59 1.41.59.51 0 1.02-.2 1.41-.59l7.78-7.78 2.81-2.81c.8-.78.8-2.07 0-2.86zM5.41 20L4 18.59l7.72-7.72 1.47 1.35L5.41 20z\"/>\n",
              "  </svg>\n",
              "      </button>\n",
              "      \n",
              "  <style>\n",
              "    .colab-df-container {\n",
              "      display:flex;\n",
              "      flex-wrap:wrap;\n",
              "      gap: 12px;\n",
              "    }\n",
              "\n",
              "    .colab-df-convert {\n",
              "      background-color: #E8F0FE;\n",
              "      border: none;\n",
              "      border-radius: 50%;\n",
              "      cursor: pointer;\n",
              "      display: none;\n",
              "      fill: #1967D2;\n",
              "      height: 32px;\n",
              "      padding: 0 0 0 0;\n",
              "      width: 32px;\n",
              "    }\n",
              "\n",
              "    .colab-df-convert:hover {\n",
              "      background-color: #E2EBFA;\n",
              "      box-shadow: 0px 1px 2px rgba(60, 64, 67, 0.3), 0px 1px 3px 1px rgba(60, 64, 67, 0.15);\n",
              "      fill: #174EA6;\n",
              "    }\n",
              "\n",
              "    [theme=dark] .colab-df-convert {\n",
              "      background-color: #3B4455;\n",
              "      fill: #D2E3FC;\n",
              "    }\n",
              "\n",
              "    [theme=dark] .colab-df-convert:hover {\n",
              "      background-color: #434B5C;\n",
              "      box-shadow: 0px 1px 3px 1px rgba(0, 0, 0, 0.15);\n",
              "      filter: drop-shadow(0px 1px 2px rgba(0, 0, 0, 0.3));\n",
              "      fill: #FFFFFF;\n",
              "    }\n",
              "  </style>\n",
              "\n",
              "      <script>\n",
              "        const buttonEl =\n",
              "          document.querySelector('#df-21cc081a-ed7d-47c7-9c6a-91718ad28ea4 button.colab-df-convert');\n",
              "        buttonEl.style.display =\n",
              "          google.colab.kernel.accessAllowed ? 'block' : 'none';\n",
              "\n",
              "        async function convertToInteractive(key) {\n",
              "          const element = document.querySelector('#df-21cc081a-ed7d-47c7-9c6a-91718ad28ea4');\n",
              "          const dataTable =\n",
              "            await google.colab.kernel.invokeFunction('convertToInteractive',\n",
              "                                                     [key], {});\n",
              "          if (!dataTable) return;\n",
              "\n",
              "          const docLinkHtml = 'Like what you see? Visit the ' +\n",
              "            '<a target=\"_blank\" href=https://colab.research.google.com/notebooks/data_table.ipynb>data table notebook</a>'\n",
              "            + ' to learn more about interactive tables.';\n",
              "          element.innerHTML = '';\n",
              "          dataTable['output_type'] = 'display_data';\n",
              "          await google.colab.output.renderOutput(dataTable, element);\n",
              "          const docLink = document.createElement('div');\n",
              "          docLink.innerHTML = docLinkHtml;\n",
              "          element.appendChild(docLink);\n",
              "        }\n",
              "      </script>\n",
              "    </div>\n",
              "  </div>\n",
              "  "
            ]
          },
          "metadata": {},
          "execution_count": 72
        }
      ]
    },
    {
      "cell_type": "code",
      "source": [
        "sns.histplot(data=df, x=\"EDAD\")"
      ],
      "metadata": {
        "colab": {
          "base_uri": "https://localhost:8080/",
          "height": 296
        },
        "id": "Wp0CZ0mrmeDu",
        "outputId": "07b04777-a1ec-4444-8f4d-212a42505156"
      },
      "execution_count": null,
      "outputs": [
        {
          "output_type": "execute_result",
          "data": {
            "text/plain": [
              "<matplotlib.axes._subplots.AxesSubplot at 0x7fd1d8fd1090>"
            ]
          },
          "metadata": {},
          "execution_count": 73
        },
        {
          "output_type": "display_data",
          "data": {
            "text/plain": [
              "<Figure size 432x288 with 1 Axes>"
            ],
            "image/png": "[encoded data removed]"
          },
          "metadata": {
            "needs_background": "light"
          }
        }
      ]
    },
    {
      "cell_type": "code",
      "source": [
        "ax = sns.boxplot(x=df[\"EDAD\"])"
      ],
      "metadata": {
        "colab": {
          "base_uri": "https://localhost:8080/",
          "height": 279
        },
        "id": "XN16YCWHmmIX",
        "outputId": "166e84dc-52ac-45df-c104-e256d5998722"
      },
      "execution_count": null,
      "outputs": [
        {
          "output_type": "display_data",
          "data": {
            "text/plain": [
              "<Figure size 432x288 with 1 Axes>"
            ],
            "image/png": "[encoded data removed]"
          },
          "metadata": {
            "needs_background": "light"
          }
        }
      ]
    },
    {
      "cell_type": "markdown",
      "source": [
        "Analizando columna género"
      ],
      "metadata": {
        "id": "4B-EdfjynR5f"
      }
    },
    {
      "cell_type": "code",
      "source": [
        "\n",
        "select = ['GENERO','ESTUDIANTES']\n",
        "grupos = ['GENERO']\n",
        "df_result = df[select].groupby(by=grupos).count()\n",
        "df_result.reset_index(inplace=True)\n",
        "df_result.sort_values(ascending=False, by=['ESTUDIANTES'], inplace=True)\n",
        "df_result"
      ],
      "metadata": {
        "colab": {
          "base_uri": "https://localhost:8080/",
          "height": 143
        },
        "id": "z1xnouuEnTmD",
        "outputId": "80f3f892-1136-4247-c55c-8179e1d27185"
      },
      "execution_count": null,
      "outputs": [
        {
          "output_type": "execute_result",
          "data": {
            "text/plain": [
              "        GENERO  ESTUDIANTES\n",
              "1    MASCULINO        42975\n",
              "0     FEMENINO        18584\n",
              "2  NO REGISTRA          117"
            ],
            "text/html": [
              "\n",
              "  <div id=\"df-a5f6e4a1-63d5-4a51-ba6f-385cd28fab01\">\n",
              "    <div class=\"colab-df-container\">\n",
              "      <div>\n",
              "<style scoped>\n",
              "    .dataframe tbody tr th:only-of-type {\n",
              "        vertical-align: middle;\n",
              "    }\n",
              "\n",
              "    .dataframe tbody tr th {\n",
              "        vertical-align: top;\n",
              "    }\n",
              "\n",
              "    .dataframe thead th {\n",
              "        text-align: right;\n",
              "    }\n",
              "</style>\n",
              "<table border=\"1\" class=\"dataframe\">\n",
              "  <thead>\n",
              "    <tr style=\"text-align: right;\">\n",
              "      <th></th>\n",
              "      <th>GENERO</th>\n",
              "      <th>ESTUDIANTES</th>\n",
              "    </tr>\n",
              "  </thead>\n",
              "  <tbody>\n",
              "    <tr>\n",
              "      <th>1</th>\n",
              "      <td>MASCULINO</td>\n",
              "      <td>42975</td>\n",
              "    </tr>\n",
              "    <tr>\n",
              "      <th>0</th>\n",
              "      <td>FEMENINO</td>\n",
              "      <td>18584</td>\n",
              "    </tr>\n",
              "    <tr>\n",
              "      <th>2</th>\n",
              "      <td>NO REGISTRA</td>\n",
              "      <td>117</td>\n",
              "    </tr>\n",
              "  </tbody>\n",
              "</table>\n",
              "</div>\n",
              "      <button class=\"colab-df-convert\" onclick=\"convertToInteractive('df-a5f6e4a1-63d5-4a51-ba6f-385cd28fab01')\"\n",
              "              title=\"Convert this dataframe to an interactive table.\"\n",
              "              style=\"display:none;\">\n",
              "        \n",
              "  <svg xmlns=\"http://www.w3.org/2000/svg\" height=\"24px\"viewBox=\"0 0 24 24\"\n",
              "       width=\"24px\">\n",
              "    <path d=\"M0 0h24v24H0V0z\" fill=\"none\"/>\n",
              "    <path d=\"M18.56 5.44l.94 2.06.94-2.06 2.06-.94-2.06-.94-.94-2.06-.94 2.06-2.06.94zm-11 1L8.5 8.5l.94-2.06 2.06-.94-2.06-.94L8.5 2.5l-.94 2.06-2.06.94zm10 10l.94 2.06.94-2.06 2.06-.94-2.06-.94-.94-2.06-.94 2.06-2.06.94z\"/><path d=\"M17.41 7.96l-1.37-1.37c-.4-.4-.92-.59-1.43-.59-.52 0-1.04.2-1.43.59L10.3 9.45l-7.72 7.72c-.78.78-.78 2.05 0 2.83L4 21.41c.39.39.9.59 1.41.59.51 0 1.02-.2 1.41-.59l7.78-7.78 2.81-2.81c.8-.78.8-2.07 0-2.86zM5.41 20L4 18.59l7.72-7.72 1.47 1.35L5.41 20z\"/>\n",
              "  </svg>\n",
              "      </button>\n",
              "      \n",
              "  <style>\n",
              "    .colab-df-container {\n",
              "      display:flex;\n",
              "      flex-wrap:wrap;\n",
              "      gap: 12px;\n",
              "    }\n",
              "\n",
              "    .colab-df-convert {\n",
              "      background-color: #E8F0FE;\n",
              "      border: none;\n",
              "      border-radius: 50%;\n",
              "      cursor: pointer;\n",
              "      display: none;\n",
              "      fill: #1967D2;\n",
              "      height: 32px;\n",
              "      padding: 0 0 0 0;\n",
              "      width: 32px;\n",
              "    }\n",
              "\n",
              "    .colab-df-convert:hover {\n",
              "      background-color: #E2EBFA;\n",
              "      box-shadow: 0px 1px 2px rgba(60, 64, 67, 0.3), 0px 1px 3px 1px rgba(60, 64, 67, 0.15);\n",
              "      fill: #174EA6;\n",
              "    }\n",
              "\n",
              "    [theme=dark] .colab-df-convert {\n",
              "      background-color: #3B4455;\n",
              "      fill: #D2E3FC;\n",
              "    }\n",
              "\n",
              "    [theme=dark] .colab-df-convert:hover {\n",
              "      background-color: #434B5C;\n",
              "      box-shadow: 0px 1px 3px 1px rgba(0, 0, 0, 0.15);\n",
              "      filter: drop-shadow(0px 1px 2px rgba(0, 0, 0, 0.3));\n",
              "      fill: #FFFFFF;\n",
              "    }\n",
              "  </style>\n",
              "\n",
              "      <script>\n",
              "        const buttonEl =\n",
              "          document.querySelector('#df-a5f6e4a1-63d5-4a51-ba6f-385cd28fab01 button.colab-df-convert');\n",
              "        buttonEl.style.display =\n",
              "          google.colab.kernel.accessAllowed ? 'block' : 'none';\n",
              "\n",
              "        async function convertToInteractive(key) {\n",
              "          const element = document.querySelector('#df-a5f6e4a1-63d5-4a51-ba6f-385cd28fab01');\n",
              "          const dataTable =\n",
              "            await google.colab.kernel.invokeFunction('convertToInteractive',\n",
              "                                                     [key], {});\n",
              "          if (!dataTable) return;\n",
              "\n",
              "          const docLinkHtml = 'Like what you see? Visit the ' +\n",
              "            '<a target=\"_blank\" href=https://colab.research.google.com/notebooks/data_table.ipynb>data table notebook</a>'\n",
              "            + ' to learn more about interactive tables.';\n",
              "          element.innerHTML = '';\n",
              "          dataTable['output_type'] = 'display_data';\n",
              "          await google.colab.output.renderOutput(dataTable, element);\n",
              "          const docLink = document.createElement('div');\n",
              "          docLink.innerHTML = docLinkHtml;\n",
              "          element.appendChild(docLink);\n",
              "        }\n",
              "      </script>\n",
              "    </div>\n",
              "  </div>\n",
              "  "
            ]
          },
          "metadata": {},
          "execution_count": 75
        }
      ]
    },
    {
      "cell_type": "markdown",
      "source": [
        "Analizando la columna Ruta"
      ],
      "metadata": {
        "id": "2ocbE7zUngbf"
      }
    },
    {
      "cell_type": "code",
      "source": [
        "\n",
        "select = ['RUTA','ESTUDIANTES']\n",
        "grupos = ['RUTA']\n",
        "df_result = df[select].groupby(by=grupos).count()\n",
        "df_result.reset_index(inplace=True)\n",
        "df_result.sort_values(ascending=False, by=['ESTUDIANTES'], inplace=True)\n",
        "df_result"
      ],
      "metadata": {
        "colab": {
          "base_uri": "https://localhost:8080/",
          "height": 112
        },
        "id": "-cekCOuanhz3",
        "outputId": "14c49673-86f2-4bb3-9056-c7ee6f7f1b2d"
      },
      "execution_count": null,
      "outputs": [
        {
          "output_type": "execute_result",
          "data": {
            "text/plain": [
              "     RUTA  ESTUDIANTES\n",
              "1  RUTA 2        48983\n",
              "0  RUTA 1        12693"
            ],
            "text/html": [
              "\n",
              "  <div id=\"df-9753462c-fa76-4f80-9ff8-9b39c369d369\">\n",
              "    <div class=\"colab-df-container\">\n",
              "      <div>\n",
              "<style scoped>\n",
              "    .dataframe tbody tr th:only-of-type {\n",
              "        vertical-align: middle;\n",
              "    }\n",
              "\n",
              "    .dataframe tbody tr th {\n",
              "        vertical-align: top;\n",
              "    }\n",
              "\n",
              "    .dataframe thead th {\n",
              "        text-align: right;\n",
              "    }\n",
              "</style>\n",
              "<table border=\"1\" class=\"dataframe\">\n",
              "  <thead>\n",
              "    <tr style=\"text-align: right;\">\n",
              "      <th></th>\n",
              "      <th>RUTA</th>\n",
              "      <th>ESTUDIANTES</th>\n",
              "    </tr>\n",
              "  </thead>\n",
              "  <tbody>\n",
              "    <tr>\n",
              "      <th>1</th>\n",
              "      <td>RUTA 2</td>\n",
              "      <td>48983</td>\n",
              "    </tr>\n",
              "    <tr>\n",
              "      <th>0</th>\n",
              "      <td>RUTA 1</td>\n",
              "      <td>12693</td>\n",
              "    </tr>\n",
              "  </tbody>\n",
              "</table>\n",
              "</div>\n",
              "      <button class=\"colab-df-convert\" onclick=\"convertToInteractive('df-9753462c-fa76-4f80-9ff8-9b39c369d369')\"\n",
              "              title=\"Convert this dataframe to an interactive table.\"\n",
              "              style=\"display:none;\">\n",
              "        \n",
              "  <svg xmlns=\"http://www.w3.org/2000/svg\" height=\"24px\"viewBox=\"0 0 24 24\"\n",
              "       width=\"24px\">\n",
              "    <path d=\"M0 0h24v24H0V0z\" fill=\"none\"/>\n",
              "    <path d=\"M18.56 5.44l.94 2.06.94-2.06 2.06-.94-2.06-.94-.94-2.06-.94 2.06-2.06.94zm-11 1L8.5 8.5l.94-2.06 2.06-.94-2.06-.94L8.5 2.5l-.94 2.06-2.06.94zm10 10l.94 2.06.94-2.06 2.06-.94-2.06-.94-.94-2.06-.94 2.06-2.06.94z\"/><path d=\"M17.41 7.96l-1.37-1.37c-.4-.4-.92-.59-1.43-.59-.52 0-1.04.2-1.43.59L10.3 9.45l-7.72 7.72c-.78.78-.78 2.05 0 2.83L4 21.41c.39.39.9.59 1.41.59.51 0 1.02-.2 1.41-.59l7.78-7.78 2.81-2.81c.8-.78.8-2.07 0-2.86zM5.41 20L4 18.59l7.72-7.72 1.47 1.35L5.41 20z\"/>\n",
              "  </svg>\n",
              "      </button>\n",
              "      \n",
              "  <style>\n",
              "    .colab-df-container {\n",
              "      display:flex;\n",
              "      flex-wrap:wrap;\n",
              "      gap: 12px;\n",
              "    }\n",
              "\n",
              "    .colab-df-convert {\n",
              "      background-color: #E8F0FE;\n",
              "      border: none;\n",
              "      border-radius: 50%;\n",
              "      cursor: pointer;\n",
              "      display: none;\n",
              "      fill: #1967D2;\n",
              "      height: 32px;\n",
              "      padding: 0 0 0 0;\n",
              "      width: 32px;\n",
              "    }\n",
              "\n",
              "    .colab-df-convert:hover {\n",
              "      background-color: #E2EBFA;\n",
              "      box-shadow: 0px 1px 2px rgba(60, 64, 67, 0.3), 0px 1px 3px 1px rgba(60, 64, 67, 0.15);\n",
              "      fill: #174EA6;\n",
              "    }\n",
              "\n",
              "    [theme=dark] .colab-df-convert {\n",
              "      background-color: #3B4455;\n",
              "      fill: #D2E3FC;\n",
              "    }\n",
              "\n",
              "    [theme=dark] .colab-df-convert:hover {\n",
              "      background-color: #434B5C;\n",
              "      box-shadow: 0px 1px 3px 1px rgba(0, 0, 0, 0.15);\n",
              "      filter: drop-shadow(0px 1px 2px rgba(0, 0, 0, 0.3));\n",
              "      fill: #FFFFFF;\n",
              "    }\n",
              "  </style>\n",
              "\n",
              "      <script>\n",
              "        const buttonEl =\n",
              "          document.querySelector('#df-9753462c-fa76-4f80-9ff8-9b39c369d369 button.colab-df-convert');\n",
              "        buttonEl.style.display =\n",
              "          google.colab.kernel.accessAllowed ? 'block' : 'none';\n",
              "\n",
              "        async function convertToInteractive(key) {\n",
              "          const element = document.querySelector('#df-9753462c-fa76-4f80-9ff8-9b39c369d369');\n",
              "          const dataTable =\n",
              "            await google.colab.kernel.invokeFunction('convertToInteractive',\n",
              "                                                     [key], {});\n",
              "          if (!dataTable) return;\n",
              "\n",
              "          const docLinkHtml = 'Like what you see? Visit the ' +\n",
              "            '<a target=\"_blank\" href=https://colab.research.google.com/notebooks/data_table.ipynb>data table notebook</a>'\n",
              "            + ' to learn more about interactive tables.';\n",
              "          element.innerHTML = '';\n",
              "          dataTable['output_type'] = 'display_data';\n",
              "          await google.colab.output.renderOutput(dataTable, element);\n",
              "          const docLink = document.createElement('div');\n",
              "          docLink.innerHTML = docLinkHtml;\n",
              "          element.appendChild(docLink);\n",
              "        }\n",
              "      </script>\n",
              "    </div>\n",
              "  </div>\n",
              "  "
            ]
          },
          "metadata": {},
          "execution_count": 76
        }
      ]
    },
    {
      "cell_type": "markdown",
      "source": [
        "Analizando columna Grado"
      ],
      "metadata": {
        "id": "a3XFojG2nqUA"
      }
    },
    {
      "cell_type": "code",
      "source": [
        "\n",
        "select = ['GRADO','ESTUDIANTES']\n",
        "grupos = ['GRADO']\n",
        "df_result = df[select].groupby(by=grupos).count()\n",
        "df_result.reset_index(inplace=True)\n",
        "df_result.sort_values(ascending=False, by=['ESTUDIANTES'], inplace=True)\n",
        "df_result"
      ],
      "metadata": {
        "colab": {
          "base_uri": "https://localhost:8080/",
          "height": 175
        },
        "id": "t8wDUTMRnrpR",
        "outputId": "c717c8fb-a823-4833-8064-cee56c2f926d"
      },
      "execution_count": null,
      "outputs": [
        {
          "output_type": "execute_result",
          "data": {
            "text/plain": [
              "   GRADO  ESTUDIANTES\n",
              "0     -1        48983\n",
              "3     11         6651\n",
              "2     10         5490\n",
              "1      9          552"
            ],
            "text/html": [
              "\n",
              "  <div id=\"df-53aaca49-cf81-462f-ba9f-f4c6ba6c4616\">\n",
              "    <div class=\"colab-df-container\">\n",
              "      <div>\n",
              "<style scoped>\n",
              "    .dataframe tbody tr th:only-of-type {\n",
              "        vertical-align: middle;\n",
              "    }\n",
              "\n",
              "    .dataframe tbody tr th {\n",
              "        vertical-align: top;\n",
              "    }\n",
              "\n",
              "    .dataframe thead th {\n",
              "        text-align: right;\n",
              "    }\n",
              "</style>\n",
              "<table border=\"1\" class=\"dataframe\">\n",
              "  <thead>\n",
              "    <tr style=\"text-align: right;\">\n",
              "      <th></th>\n",
              "      <th>GRADO</th>\n",
              "      <th>ESTUDIANTES</th>\n",
              "    </tr>\n",
              "  </thead>\n",
              "  <tbody>\n",
              "    <tr>\n",
              "      <th>0</th>\n",
              "      <td>-1</td>\n",
              "      <td>48983</td>\n",
              "    </tr>\n",
              "    <tr>\n",
              "      <th>3</th>\n",
              "      <td>11</td>\n",
              "      <td>6651</td>\n",
              "    </tr>\n",
              "    <tr>\n",
              "      <th>2</th>\n",
              "      <td>10</td>\n",
              "      <td>5490</td>\n",
              "    </tr>\n",
              "    <tr>\n",
              "      <th>1</th>\n",
              "      <td>9</td>\n",
              "      <td>552</td>\n",
              "    </tr>\n",
              "  </tbody>\n",
              "</table>\n",
              "</div>\n",
              "      <button class=\"colab-df-convert\" onclick=\"convertToInteractive('df-53aaca49-cf81-462f-ba9f-f4c6ba6c4616')\"\n",
              "              title=\"Convert this dataframe to an interactive table.\"\n",
              "              style=\"display:none;\">\n",
              "        \n",
              "  <svg xmlns=\"http://www.w3.org/2000/svg\" height=\"24px\"viewBox=\"0 0 24 24\"\n",
              "       width=\"24px\">\n",
              "    <path d=\"M0 0h24v24H0V0z\" fill=\"none\"/>\n",
              "    <path d=\"M18.56 5.44l.94 2.06.94-2.06 2.06-.94-2.06-.94-.94-2.06-.94 2.06-2.06.94zm-11 1L8.5 8.5l.94-2.06 2.06-.94-2.06-.94L8.5 2.5l-.94 2.06-2.06.94zm10 10l.94 2.06.94-2.06 2.06-.94-2.06-.94-.94-2.06-.94 2.06-2.06.94z\"/><path d=\"M17.41 7.96l-1.37-1.37c-.4-.4-.92-.59-1.43-.59-.52 0-1.04.2-1.43.59L10.3 9.45l-7.72 7.72c-.78.78-.78 2.05 0 2.83L4 21.41c.39.39.9.59 1.41.59.51 0 1.02-.2 1.41-.59l7.78-7.78 2.81-2.81c.8-.78.8-2.07 0-2.86zM5.41 20L4 18.59l7.72-7.72 1.47 1.35L5.41 20z\"/>\n",
              "  </svg>\n",
              "      </button>\n",
              "      \n",
              "  <style>\n",
              "    .colab-df-container {\n",
              "      display:flex;\n",
              "      flex-wrap:wrap;\n",
              "      gap: 12px;\n",
              "    }\n",
              "\n",
              "    .colab-df-convert {\n",
              "      background-color: #E8F0FE;\n",
              "      border: none;\n",
              "      border-radius: 50%;\n",
              "      cursor: pointer;\n",
              "      display: none;\n",
              "      fill: #1967D2;\n",
              "      height: 32px;\n",
              "      padding: 0 0 0 0;\n",
              "      width: 32px;\n",
              "    }\n",
              "\n",
              "    .colab-df-convert:hover {\n",
              "      background-color: #E2EBFA;\n",
              "      box-shadow: 0px 1px 2px rgba(60, 64, 67, 0.3), 0px 1px 3px 1px rgba(60, 64, 67, 0.15);\n",
              "      fill: #174EA6;\n",
              "    }\n",
              "\n",
              "    [theme=dark] .colab-df-convert {\n",
              "      background-color: #3B4455;\n",
              "      fill: #D2E3FC;\n",
              "    }\n",
              "\n",
              "    [theme=dark] .colab-df-convert:hover {\n",
              "      background-color: #434B5C;\n",
              "      box-shadow: 0px 1px 3px 1px rgba(0, 0, 0, 0.15);\n",
              "      filter: drop-shadow(0px 1px 2px rgba(0, 0, 0, 0.3));\n",
              "      fill: #FFFFFF;\n",
              "    }\n",
              "  </style>\n",
              "\n",
              "      <script>\n",
              "        const buttonEl =\n",
              "          document.querySelector('#df-53aaca49-cf81-462f-ba9f-f4c6ba6c4616 button.colab-df-convert');\n",
              "        buttonEl.style.display =\n",
              "          google.colab.kernel.accessAllowed ? 'block' : 'none';\n",
              "\n",
              "        async function convertToInteractive(key) {\n",
              "          const element = document.querySelector('#df-53aaca49-cf81-462f-ba9f-f4c6ba6c4616');\n",
              "          const dataTable =\n",
              "            await google.colab.kernel.invokeFunction('convertToInteractive',\n",
              "                                                     [key], {});\n",
              "          if (!dataTable) return;\n",
              "\n",
              "          const docLinkHtml = 'Like what you see? Visit the ' +\n",
              "            '<a target=\"_blank\" href=https://colab.research.google.com/notebooks/data_table.ipynb>data table notebook</a>'\n",
              "            + ' to learn more about interactive tables.';\n",
              "          element.innerHTML = '';\n",
              "          dataTable['output_type'] = 'display_data';\n",
              "          await google.colab.output.renderOutput(dataTable, element);\n",
              "          const docLink = document.createElement('div');\n",
              "          docLink.innerHTML = docLinkHtml;\n",
              "          element.appendChild(docLink);\n",
              "        }\n",
              "      </script>\n",
              "    </div>\n",
              "  </div>\n",
              "  "
            ]
          },
          "metadata": {},
          "execution_count": 77
        }
      ]
    },
    {
      "cell_type": "markdown",
      "source": [
        "Se reemplazan los valores -1 por 'Bachiller +'"
      ],
      "metadata": {
        "id": "kSEfohzgn9Tt"
      }
    },
    {
      "cell_type": "code",
      "source": [
        "df['GRADO'] = df['GRADO'].replace([-1],'Bachiller+')"
      ],
      "metadata": {
        "id": "SoMeAdc4oFXu"
      },
      "execution_count": null,
      "outputs": []
    },
    {
      "cell_type": "code",
      "source": [
        "df.info()"
      ],
      "metadata": {
        "colab": {
          "base_uri": "https://localhost:8080/"
        },
        "id": "emvYw5JcoaHy",
        "outputId": "ed2d5aee-0cc3-47ac-fc42-53ed6f1ef337"
      },
      "execution_count": null,
      "outputs": [
        {
          "output_type": "stream",
          "name": "stdout",
          "text": [
            "<class 'pandas.core.frame.DataFrame'>\n",
            "Int64Index: 61676 entries, 80 to 429697\n",
            "Data columns (total 9 columns):\n",
            " #   Column            Non-Null Count  Dtype \n",
            "---  ------            --------------  ----- \n",
            " 0   DEPARTAME_NOMBRE  61676 non-null  object\n",
            " 1   ESTRATO_SOCIAL    61676 non-null  object\n",
            " 2   EDAD              61676 non-null  int64 \n",
            " 3   GENERO            61676 non-null  object\n",
            " 4   RUTA              61676 non-null  object\n",
            " 5   GRADO             61676 non-null  object\n",
            " 6   ESTADOS           61676 non-null  object\n",
            " 7   ESTUDIANTES       61676 non-null  int64 \n",
            " 8   GRADUADO          61676 non-null  int64 \n",
            "dtypes: int64(3), object(6)\n",
            "memory usage: 6.7+ MB\n"
          ]
        }
      ]
    },
    {
      "cell_type": "markdown",
      "source": [
        "# Seleccionando y binarizando entradas para el modelo"
      ],
      "metadata": {
        "id": "wIHYmQ33Cu4e"
      }
    },
    {
      "cell_type": "code",
      "source": [
        " input = pd.get_dummies(df[['DEPARTAME_NOMBRE',\n",
        "         'ESTRATO_SOCIAL', 'GENERO', 'RUTA', 'GRADO']], drop_first='false')"
      ],
      "metadata": {
        "id": "-QzAwKrrpT0J"
      },
      "execution_count": null,
      "outputs": []
    },
    {
      "cell_type": "code",
      "source": [
        "input.head(4)"
      ],
      "metadata": {
        "colab": {
          "base_uri": "https://localhost:8080/"
        },
        "id": "Iuqq7321qq7D",
        "outputId": "5b9fc876-7133-419f-ea06-fb43e5cefe7b"
      },
      "execution_count": null,
      "outputs": [
        {
          "output_type": "execute_result",
          "data": {
            "text/plain": [
              "     DEPARTAME_NOMBRE_ANTIOQUIA  DEPARTAME_NOMBRE_ARAUCA  \\\n",
              "80                            0                        0   \n",
              "123                           0                        0   \n",
              "148                           0                        0   \n",
              "149                           0                        0   \n",
              "\n",
              "     DEPARTAME_NOMBRE_ATLANTICO  DEPARTAME_NOMBRE_BOGOTA  \\\n",
              "80                            0                        0   \n",
              "123                           0                        0   \n",
              "148                           0                        0   \n",
              "149                           0                        0   \n",
              "\n",
              "     DEPARTAME_NOMBRE_BOLIVAR  DEPARTAME_NOMBRE_BOYACA  \\\n",
              "80                          0                        0   \n",
              "123                         0                        1   \n",
              "148                         0                        1   \n",
              "149                         0                        0   \n",
              "\n",
              "     DEPARTAME_NOMBRE_CALDAS  DEPARTAME_NOMBRE_CAQUETA  \\\n",
              "80                         0                         0   \n",
              "123                        0                         0   \n",
              "148                        0                         0   \n",
              "149                        1                         0   \n",
              "\n",
              "     DEPARTAME_NOMBRE_CASANARE  DEPARTAME_NOMBRE_CAUCA  ...  ESTRATO_SOCIAL_3  \\\n",
              "80                           0                       0  ...                 0   \n",
              "123                          0                       0  ...                 0   \n",
              "148                          0                       0  ...                 0   \n",
              "149                          0                       0  ...                 0   \n",
              "\n",
              "     ESTRATO_SOCIAL_4  ESTRATO_SOCIAL_5  ESTRATO_SOCIAL_6  GENERO_MASCULINO  \\\n",
              "80                  0                 0                 0                 0   \n",
              "123                 0                 0                 0                 0   \n",
              "148                 0                 0                 0                 0   \n",
              "149                 0                 0                 0                 0   \n",
              "\n",
              "     GENERO_NO REGISTRA  RUTA_RUTA 2  GRADO_10  GRADO_11  GRADO_Bachiller+  \n",
              "80                    0            1         0         0                 1  \n",
              "123                   0            1         0         0                 1  \n",
              "148                   0            0         1         0                 0  \n",
              "149                   0            0         1         0                 0  \n",
              "\n",
              "[4 rows x 43 columns]"
            ],
            "text/html": [
              "\n",
              "  <div id=\"df-de071183-895d-44f6-bd19-ba103f94ca80\">\n",
              "    <div class=\"colab-df-container\">\n",
              "      <div>\n",
              "<style scoped>\n",
              "    .dataframe tbody tr th:only-of-type {\n",
              "        vertical-align: middle;\n",
              "    }\n",
              "\n",
              "    .dataframe tbody tr th {\n",
              "        vertical-align: top;\n",
              "    }\n",
              "\n",
              "    .dataframe thead th {\n",
              "        text-align: right;\n",
              "    }\n",
              "</style>\n",
              "<table border=\"1\" class=\"dataframe\">\n",
              "  <thead>\n",
              "    <tr style=\"text-align: right;\">\n",
              "      <th></th>\n",
              "      <th>DEPARTAME_NOMBRE_ANTIOQUIA</th>\n",
              "      <th>DEPARTAME_NOMBRE_ARAUCA</th>\n",
              "      <th>DEPARTAME_NOMBRE_ATLANTICO</th>\n",
              "      <th>DEPARTAME_NOMBRE_BOGOTA</th>\n",
              "      <th>DEPARTAME_NOMBRE_BOLIVAR</th>\n",
              "      <th>DEPARTAME_NOMBRE_BOYACA</th>\n",
              "      <th>DEPARTAME_NOMBRE_CALDAS</th>\n",
              "      <th>DEPARTAME_NOMBRE_CAQUETA</th>\n",
              "      <th>DEPARTAME_NOMBRE_CASANARE</th>\n",
              "      <th>DEPARTAME_NOMBRE_CAUCA</th>\n",
              "      <th>...</th>\n",
              "      <th>ESTRATO_SOCIAL_3</th>\n",
              "      <th>ESTRATO_SOCIAL_4</th>\n",
              "      <th>ESTRATO_SOCIAL_5</th>\n",
              "      <th>ESTRATO_SOCIAL_6</th>\n",
              "      <th>GENERO_MASCULINO</th>\n",
              "      <th>GENERO_NO REGISTRA</th>\n",
              "      <th>RUTA_RUTA 2</th>\n",
              "      <th>GRADO_10</th>\n",
              "      <th>GRADO_11</th>\n",
              "      <th>GRADO_Bachiller+</th>\n",
              "    </tr>\n",
              "  </thead>\n",
              "  <tbody>\n",
              "    <tr>\n",
              "      <th>80</th>\n",
              "      <td>0</td>\n",
              "      <td>0</td>\n",
              "      <td>0</td>\n",
              "      <td>0</td>\n",
              "      <td>0</td>\n",
              "      <td>0</td>\n",
              "      <td>0</td>\n",
              "      <td>0</td>\n",
              "      <td>0</td>\n",
              "      <td>0</td>\n",
              "      <td>...</td>\n",
              "      <td>0</td>\n",
              "      <td>0</td>\n",
              "      <td>0</td>\n",
              "      <td>0</td>\n",
              "      <td>0</td>\n",
              "      <td>0</td>\n",
              "      <td>1</td>\n",
              "      <td>0</td>\n",
              "      <td>0</td>\n",
              "      <td>1</td>\n",
              "    </tr>\n",
              "    <tr>\n",
              "      <th>123</th>\n",
              "      <td>0</td>\n",
              "      <td>0</td>\n",
              "      <td>0</td>\n",
              "      <td>0</td>\n",
              "      <td>0</td>\n",
              "      <td>1</td>\n",
              "      <td>0</td>\n",
              "      <td>0</td>\n",
              "      <td>0</td>\n",
              "      <td>0</td>\n",
              "      <td>...</td>\n",
              "      <td>0</td>\n",
              "      <td>0</td>\n",
              "      <td>0</td>\n",
              "      <td>0</td>\n",
              "      <td>0</td>\n",
              "      <td>0</td>\n",
              "      <td>1</td>\n",
              "      <td>0</td>\n",
              "      <td>0</td>\n",
              "      <td>1</td>\n",
              "    </tr>\n",
              "    <tr>\n",
              "      <th>148</th>\n",
              "      <td>0</td>\n",
              "      <td>0</td>\n",
              "      <td>0</td>\n",
              "      <td>0</td>\n",
              "      <td>0</td>\n",
              "      <td>1</td>\n",
              "      <td>0</td>\n",
              "      <td>0</td>\n",
              "      <td>0</td>\n",
              "      <td>0</td>\n",
              "      <td>...</td>\n",
              "      <td>0</td>\n",
              "      <td>0</td>\n",
              "      <td>0</td>\n",
              "      <td>0</td>\n",
              "      <td>0</td>\n",
              "      <td>0</td>\n",
              "      <td>0</td>\n",
              "      <td>1</td>\n",
              "      <td>0</td>\n",
              "      <td>0</td>\n",
              "    </tr>\n",
              "    <tr>\n",
              "      <th>149</th>\n",
              "      <td>0</td>\n",
              "      <td>0</td>\n",
              "      <td>0</td>\n",
              "      <td>0</td>\n",
              "      <td>0</td>\n",
              "      <td>0</td>\n",
              "      <td>1</td>\n",
              "      <td>0</td>\n",
              "      <td>0</td>\n",
              "      <td>0</td>\n",
              "      <td>...</td>\n",
              "      <td>0</td>\n",
              "      <td>0</td>\n",
              "      <td>0</td>\n",
              "      <td>0</td>\n",
              "      <td>0</td>\n",
              "      <td>0</td>\n",
              "      <td>0</td>\n",
              "      <td>1</td>\n",
              "      <td>0</td>\n",
              "      <td>0</td>\n",
              "    </tr>\n",
              "  </tbody>\n",
              "</table>\n",
              "<p>4 rows × 43 columns</p>\n",
              "</div>\n",
              "      <button class=\"colab-df-convert\" onclick=\"convertToInteractive('df-de071183-895d-44f6-bd19-ba103f94ca80')\"\n",
              "              title=\"Convert this dataframe to an interactive table.\"\n",
              "              style=\"display:none;\">\n",
              "        \n",
              "  <svg xmlns=\"http://www.w3.org/2000/svg\" height=\"24px\"viewBox=\"0 0 24 24\"\n",
              "       width=\"24px\">\n",
              "    <path d=\"M0 0h24v24H0V0z\" fill=\"none\"/>\n",
              "    <path d=\"M18.56 5.44l.94 2.06.94-2.06 2.06-.94-2.06-.94-.94-2.06-.94 2.06-2.06.94zm-11 1L8.5 8.5l.94-2.06 2.06-.94-2.06-.94L8.5 2.5l-.94 2.06-2.06.94zm10 10l.94 2.06.94-2.06 2.06-.94-2.06-.94-.94-2.06-.94 2.06-2.06.94z\"/><path d=\"M17.41 7.96l-1.37-1.37c-.4-.4-.92-.59-1.43-.59-.52 0-1.04.2-1.43.59L10.3 9.45l-7.72 7.72c-.78.78-.78 2.05 0 2.83L4 21.41c.39.39.9.59 1.41.59.51 0 1.02-.2 1.41-.59l7.78-7.78 2.81-2.81c.8-.78.8-2.07 0-2.86zM5.41 20L4 18.59l7.72-7.72 1.47 1.35L5.41 20z\"/>\n",
              "  </svg>\n",
              "      </button>\n",
              "      \n",
              "  <style>\n",
              "    .colab-df-container {\n",
              "      display:flex;\n",
              "      flex-wrap:wrap;\n",
              "      gap: 12px;\n",
              "    }\n",
              "\n",
              "    .colab-df-convert {\n",
              "      background-color: #E8F0FE;\n",
              "      border: none;\n",
              "      border-radius: 50%;\n",
              "      cursor: pointer;\n",
              "      display: none;\n",
              "      fill: #1967D2;\n",
              "      height: 32px;\n",
              "      padding: 0 0 0 0;\n",
              "      width: 32px;\n",
              "    }\n",
              "\n",
              "    .colab-df-convert:hover {\n",
              "      background-color: #E2EBFA;\n",
              "      box-shadow: 0px 1px 2px rgba(60, 64, 67, 0.3), 0px 1px 3px 1px rgba(60, 64, 67, 0.15);\n",
              "      fill: #174EA6;\n",
              "    }\n",
              "\n",
              "    [theme=dark] .colab-df-convert {\n",
              "      background-color: #3B4455;\n",
              "      fill: #D2E3FC;\n",
              "    }\n",
              "\n",
              "    [theme=dark] .colab-df-convert:hover {\n",
              "      background-color: #434B5C;\n",
              "      box-shadow: 0px 1px 3px 1px rgba(0, 0, 0, 0.15);\n",
              "      filter: drop-shadow(0px 1px 2px rgba(0, 0, 0, 0.3));\n",
              "      fill: #FFFFFF;\n",
              "    }\n",
              "  </style>\n",
              "\n",
              "      <script>\n",
              "        const buttonEl =\n",
              "          document.querySelector('#df-de071183-895d-44f6-bd19-ba103f94ca80 button.colab-df-convert');\n",
              "        buttonEl.style.display =\n",
              "          google.colab.kernel.accessAllowed ? 'block' : 'none';\n",
              "\n",
              "        async function convertToInteractive(key) {\n",
              "          const element = document.querySelector('#df-de071183-895d-44f6-bd19-ba103f94ca80');\n",
              "          const dataTable =\n",
              "            await google.colab.kernel.invokeFunction('convertToInteractive',\n",
              "                                                     [key], {});\n",
              "          if (!dataTable) return;\n",
              "\n",
              "          const docLinkHtml = 'Like what you see? Visit the ' +\n",
              "            '<a target=\"_blank\" href=https://colab.research.google.com/notebooks/data_table.ipynb>data table notebook</a>'\n",
              "            + ' to learn more about interactive tables.';\n",
              "          element.innerHTML = '';\n",
              "          dataTable['output_type'] = 'display_data';\n",
              "          await google.colab.output.renderOutput(dataTable, element);\n",
              "          const docLink = document.createElement('div');\n",
              "          docLink.innerHTML = docLinkHtml;\n",
              "          element.appendChild(docLink);\n",
              "        }\n",
              "      </script>\n",
              "    </div>\n",
              "  </div>\n",
              "  "
            ]
          },
          "metadata": {},
          "execution_count": 81
        }
      ]
    },
    {
      "cell_type": "code",
      "source": [
        "input = input.join(df['EDAD'])\n"
      ],
      "metadata": {
        "id": "T6MJYzv3qMXG"
      },
      "execution_count": null,
      "outputs": []
    },
    {
      "cell_type": "code",
      "source": [
        "output = df['GRADUADO']"
      ],
      "metadata": {
        "id": "xp6nnIjTrE0_"
      },
      "execution_count": null,
      "outputs": []
    },
    {
      "cell_type": "code",
      "source": [
        "from sklearn.model_selection import train_test_split"
      ],
      "metadata": {
        "id": "v_FmrC7RrUcT"
      },
      "execution_count": null,
      "outputs": []
    },
    {
      "cell_type": "code",
      "source": [
        "# output = df_clientes['Score Cliente'].values.astype('float32');\n",
        "# input  = df_clientes[['Ind. Préstamo','Ind. Formación']].values.astype('float32');\n",
        "input_tra, input_val, output_tra, output_val = train_test_split(input, \n",
        "                                                                output, test_size=0.3);"
      ],
      "metadata": {
        "id": "HBgHiOrxsh7_"
      },
      "execution_count": null,
      "outputs": []
    },
    {
      "cell_type": "code",
      "source": [
        "ax = sns.histplot(x=output_val)"
      ],
      "metadata": {
        "colab": {
          "base_uri": "https://localhost:8080/"
        },
        "id": "kr1ZJAT7Nv8u",
        "outputId": "6ce73ae7-9c7f-4987-8d76-07ce6741323b"
      },
      "execution_count": null,
      "outputs": [
        {
          "output_type": "display_data",
          "data": {
            "text/plain": [
              "<Figure size 432x288 with 1 Axes>"
            ],
            "image/png": "[encoded data removed]"
          },
          "metadata": {
            "needs_background": "light"
          }
        }
      ]
    },
    {
      "cell_type": "markdown",
      "source": [
        "# Regresión logística (por defecto)\n"
      ],
      "metadata": {
        "id": "0cEYn2vEC4Bw"
      }
    },
    {
      "cell_type": "code",
      "source": [
        "from sklearn.linear_model import LogisticRegression"
      ],
      "metadata": {
        "id": "9tivgsUss_gG"
      },
      "execution_count": null,
      "outputs": []
    },
    {
      "cell_type": "code",
      "source": [
        "log = LogisticRegression();\n",
        "log_fit = log.fit(input_tra, output_tra)\n"
      ],
      "metadata": {
        "colab": {
          "base_uri": "https://localhost:8080/"
        },
        "id": "2beKAHrytBnR",
        "outputId": "60a05901-ad47-4806-8fac-79c1953f2dcc"
      },
      "execution_count": null,
      "outputs": [
        {
          "output_type": "stream",
          "name": "stderr",
          "text": [
            "/usr/local/lib/python3.7/dist-packages/sklearn/linear_model/_logistic.py:818: ConvergenceWarning: lbfgs failed to converge (status=1):\n",
            "STOP: TOTAL NO. of ITERATIONS REACHED LIMIT.\n",
            "\n",
            "Increase the number of iterations (max_iter) or scale the data as shown in:\n",
            "    https://scikit-learn.org/stable/modules/preprocessing.html\n",
            "Please also refer to the documentation for alternative solver options:\n",
            "    https://scikit-learn.org/stable/modules/linear_model.html#logistic-regression\n",
            "  extra_warning_msg=_LOGISTIC_SOLVER_CONVERGENCE_MSG,\n"
          ]
        }
      ]
    },
    {
      "cell_type": "code",
      "source": [
        "predicted = log_fit.predict(input_val)\n",
        "ax = sns.histplot(x=predicted)\n",
        "show_results(output_val, predicted)\n"
      ],
      "metadata": {
        "colab": {
          "base_uri": "https://localhost:8080/"
        },
        "id": "Fr9M-iryH3PP",
        "outputId": "7731c88b-2f6a-4327-fc06-63bb66dc4113"
      },
      "execution_count": null,
      "outputs": [
        {
          "output_type": "display_data",
          "data": {
            "text/plain": [
              "<Figure size 432x288 with 2 Axes>"
            ],
            "image/png": "[encoded data removed]"
          },
          "metadata": {
            "needs_background": "light"
          }
        },
        {
          "output_type": "display_data",
          "data": {
            "text/plain": [
              "<Figure size 432x288 with 1 Axes>"
            ],
            "image/png": "[encoded data removed]"
          },
          "metadata": {
            "needs_background": "light"
          }
        },
        {
          "output_type": "stream",
          "name": "stdout",
          "text": [
            "              precision    recall  f1-score   support\n",
            "\n",
            "           0       0.96      1.00      0.98     17718\n",
            "           1       0.25      0.00      0.00       785\n",
            "\n",
            "    accuracy                           0.96     18503\n",
            "   macro avg       0.60      0.50      0.49     18503\n",
            "weighted avg       0.93      0.96      0.94     18503\n",
            "\n"
          ]
        }
      ]
    },
    {
      "cell_type": "markdown",
      "source": [
        "# Redes neuronales (MLPClassifier)"
      ],
      "metadata": {
        "id": "AYZ9TMQ6EC7Q"
      }
    },
    {
      "cell_type": "code",
      "source": [
        "from sklearn.neural_network import MLPClassifier"
      ],
      "metadata": {
        "id": "NNNwYm8RMHzZ"
      },
      "execution_count": null,
      "outputs": []
    },
    {
      "cell_type": "code",
      "source": [
        "mlpc = MLPClassifier(hidden_layer_sizes=(4,4,4,4))\n",
        "mlpc_fit = mlpc.fit(input_tra, output_tra)\n"
      ],
      "metadata": {
        "id": "retZ4jq8RgoH"
      },
      "execution_count": null,
      "outputs": []
    },
    {
      "cell_type": "code",
      "source": [
        "predicted = mlpc_fit.predict(input_val)\n",
        "ax = sns.histplot(x=predicted)"
      ],
      "metadata": {
        "colab": {
          "base_uri": "https://localhost:8080/"
        },
        "id": "_PyZi8NpSA8A",
        "outputId": "fb1b25c2-576a-4678-d54b-a76611a9c7f6"
      },
      "execution_count": null,
      "outputs": [
        {
          "output_type": "display_data",
          "data": {
            "text/plain": [
              "<Figure size 432x288 with 1 Axes>"
            ],
            "image/png": "[encoded data removed]"
          },
          "metadata": {
            "needs_background": "light"
          }
        }
      ]
    },
    {
      "cell_type": "code",
      "source": [
        "show_results(output_val, predicted)"
      ],
      "metadata": {
        "colab": {
          "base_uri": "https://localhost:8080/"
        },
        "id": "b_zmt1j1SF4B",
        "outputId": "33896563-cfd0-435a-fb3d-1a125f26ac8a"
      },
      "execution_count": null,
      "outputs": [
        {
          "output_type": "display_data",
          "data": {
            "text/plain": [
              "<Figure size 432x288 with 2 Axes>"
            ],
            "image/png": "[encoded data removed]"
          },
          "metadata": {
            "needs_background": "light"
          }
        },
        {
          "output_type": "display_data",
          "data": {
            "text/plain": [
              "<Figure size 432x288 with 1 Axes>"
            ],
            "image/png": "[encoded data removed]"
          },
          "metadata": {
            "needs_background": "light"
          }
        },
        {
          "output_type": "stream",
          "name": "stdout",
          "text": [
            "              precision    recall  f1-score   support\n",
            "\n",
            "           0       0.96      1.00      0.98     17718\n",
            "           1       0.00      0.00      0.00       785\n",
            "\n",
            "    accuracy                           0.96     18503\n",
            "   macro avg       0.48      0.50      0.49     18503\n",
            "weighted avg       0.92      0.96      0.94     18503\n",
            "\n"
          ]
        },
        {
          "output_type": "stream",
          "name": "stderr",
          "text": [
            "/usr/local/lib/python3.7/dist-packages/sklearn/metrics/_classification.py:1318: UndefinedMetricWarning: Precision and F-score are ill-defined and being set to 0.0 in labels with no predicted samples. Use `zero_division` parameter to control this behavior.\n",
            "  _warn_prf(average, modifier, msg_start, len(result))\n",
            "/usr/local/lib/python3.7/dist-packages/sklearn/metrics/_classification.py:1318: UndefinedMetricWarning: Precision and F-score are ill-defined and being set to 0.0 in labels with no predicted samples. Use `zero_division` parameter to control this behavior.\n",
            "  _warn_prf(average, modifier, msg_start, len(result))\n",
            "/usr/local/lib/python3.7/dist-packages/sklearn/metrics/_classification.py:1318: UndefinedMetricWarning: Precision and F-score are ill-defined and being set to 0.0 in labels with no predicted samples. Use `zero_division` parameter to control this behavior.\n",
            "  _warn_prf(average, modifier, msg_start, len(result))\n"
          ]
        }
      ]
    },
    {
      "cell_type": "markdown",
      "source": [
        "# Intentando penalización L2"
      ],
      "metadata": {
        "id": "tohHOKWH-Jen"
      }
    },
    {
      "cell_type": "code",
      "source": [
        "log_fit = LogisticRegression(C=1.0,penalty='l2',random_state=1,solver=\"newton-cg\",class_weight=\"balanced\")\n",
        "log_fit = log.fit(input_tra, output_tra)\n",
        "log_fit.score(input_val, output_val)\n",
        "predicted = log_fit.predict(input_val)"
      ],
      "metadata": {
        "colab": {
          "base_uri": "https://localhost:8080/"
        },
        "id": "lKgb3SVm7LqK",
        "outputId": "cf584980-ffd4-4bc3-f334-15f7a67b5908"
      },
      "execution_count": null,
      "outputs": [
        {
          "output_type": "stream",
          "name": "stderr",
          "text": [
            "/usr/local/lib/python3.7/dist-packages/sklearn/linear_model/_logistic.py:818: ConvergenceWarning: lbfgs failed to converge (status=1):\n",
            "STOP: TOTAL NO. of ITERATIONS REACHED LIMIT.\n",
            "\n",
            "Increase the number of iterations (max_iter) or scale the data as shown in:\n",
            "    https://scikit-learn.org/stable/modules/preprocessing.html\n",
            "Please also refer to the documentation for alternative solver options:\n",
            "    https://scikit-learn.org/stable/modules/linear_model.html#logistic-regression\n",
            "  extra_warning_msg=_LOGISTIC_SOLVER_CONVERGENCE_MSG,\n"
          ]
        }
      ]
    },
    {
      "cell_type": "code",
      "source": [
        "show_results(output_val, predicted)"
      ],
      "metadata": {
        "colab": {
          "base_uri": "https://localhost:8080/"
        },
        "id": "Szpa7QfF8Mlz",
        "outputId": "633c16d8-576e-4326-a024-6bf418d7a29e"
      },
      "execution_count": null,
      "outputs": [
        {
          "output_type": "display_data",
          "data": {
            "text/plain": [
              "<Figure size 432x288 with 2 Axes>"
            ],
            "image/png": "[encoded data removed]"
          },
          "metadata": {
            "needs_background": "light"
          }
        },
        {
          "output_type": "display_data",
          "data": {
            "text/plain": [
              "<Figure size 432x288 with 1 Axes>"
            ],
            "image/png": "[encoded data removed]"
          },
          "metadata": {
            "needs_background": "light"
          }
        },
        {
          "output_type": "stream",
          "name": "stdout",
          "text": [
            "              precision    recall  f1-score   support\n",
            "\n",
            "           0       0.96      1.00      0.98     17718\n",
            "           1       0.25      0.00      0.00       785\n",
            "\n",
            "    accuracy                           0.96     18503\n",
            "   macro avg       0.60      0.50      0.49     18503\n",
            "weighted avg       0.93      0.96      0.94     18503\n",
            "\n"
          ]
        }
      ]
    },
    {
      "cell_type": "markdown",
      "source": [
        "# Oversampling de la clase minoritaria"
      ],
      "metadata": {
        "id": "r3Ltkgym-UpW"
      }
    },
    {
      "cell_type": "code",
      "source": [
        "from imblearn.over_sampling import RandomOverSampler"
      ],
      "metadata": {
        "id": "2ITQOZb_-ooZ"
      },
      "execution_count": null,
      "outputs": []
    },
    {
      "cell_type": "code",
      "source": [
        "os =  RandomOverSampler(sampling_strategy=0.5)\n",
        "X_train_res, y_train_res = os.fit_resample(input_tra, output_tra)\n",
        "\n",
        "print (\"Distribution before resampling {}\".format(Counter(output_tra)))\n",
        "print (\"Distribution after resampling {}\".format(Counter(y_train_res)))\n",
        "\n",
        "\n",
        "log_fit = LogisticRegression()\n",
        "log_fit = log.fit(X_train_res, y_train_res)\n",
        "#log_fit.score(input_val, output_val)\n",
        "predicted = log_fit.predict(input_val)\n",
        "\n"
      ],
      "metadata": {
        "colab": {
          "base_uri": "https://localhost:8080/"
        },
        "id": "BUN3-OTl-Roo",
        "outputId": "cae5c556-a91b-4e73-98f7-782293b8cd07"
      },
      "execution_count": null,
      "outputs": [
        {
          "output_type": "stream",
          "name": "stdout",
          "text": [
            "Distribution before resampling Counter({0: 41301, 1: 1872})\n",
            "Distribution after resampling Counter({0: 41301, 1: 20650})\n"
          ]
        },
        {
          "output_type": "stream",
          "name": "stderr",
          "text": [
            "/usr/local/lib/python3.7/dist-packages/sklearn/linear_model/_logistic.py:818: ConvergenceWarning: lbfgs failed to converge (status=1):\n",
            "STOP: TOTAL NO. of ITERATIONS REACHED LIMIT.\n",
            "\n",
            "Increase the number of iterations (max_iter) or scale the data as shown in:\n",
            "    https://scikit-learn.org/stable/modules/preprocessing.html\n",
            "Please also refer to the documentation for alternative solver options:\n",
            "    https://scikit-learn.org/stable/modules/linear_model.html#logistic-regression\n",
            "  extra_warning_msg=_LOGISTIC_SOLVER_CONVERGENCE_MSG,\n"
          ]
        }
      ]
    },
    {
      "cell_type": "code",
      "source": [
        "show_results(output_val, predicted)"
      ],
      "metadata": {
        "colab": {
          "base_uri": "https://localhost:8080/"
        },
        "id": "Idr4sN4T_qKi",
        "outputId": "6a818198-b46a-4c5a-c73e-f5605b3012ba"
      },
      "execution_count": null,
      "outputs": [
        {
          "output_type": "display_data",
          "data": {
            "text/plain": [
              "<Figure size 432x288 with 2 Axes>"
            ],
            "image/png": "[encoded data removed]"
          },
          "metadata": {
            "needs_background": "light"
          }
        },
        {
          "output_type": "display_data",
          "data": {
            "text/plain": [
              "<Figure size 432x288 with 1 Axes>"
            ],
            "image/png": "[encoded data removed]"
          },
          "metadata": {
            "needs_background": "light"
          }
        },
        {
          "output_type": "stream",
          "name": "stdout",
          "text": [
            "              precision    recall  f1-score   support\n",
            "\n",
            "           0       0.96      0.94      0.95     17718\n",
            "           1       0.14      0.21      0.17       785\n",
            "\n",
            "    accuracy                           0.91     18503\n",
            "   macro avg       0.55      0.58      0.56     18503\n",
            "weighted avg       0.93      0.91      0.92     18503\n",
            "\n"
          ]
        }
      ]
    },
    {
      "cell_type": "markdown",
      "source": [
        "# Subsampling en la clase mayoritaria:"
      ],
      "metadata": {
        "id": "LUFBnwkdFRSP"
      }
    },
    {
      "cell_type": "code",
      "source": [
        "from imblearn.under_sampling import NearMiss"
      ],
      "metadata": {
        "id": "bFaKgH37FV7w"
      },
      "execution_count": null,
      "outputs": []
    },
    {
      "cell_type": "code",
      "source": [
        "us = NearMiss(sampling_strategy=\"auto\",  n_neighbors=5, version=2)\n",
        "X_train_res, y_train_res = us.fit_resample(input_tra, output_tra)\n",
        "\n",
        "print (\"Distribution before resampling {}\".format(Counter(output_tra)))\n",
        "print (\"Distribution after resampling {}\".format(Counter(y_train_res)))\n",
        "\n",
        "\n",
        "log_fit = LogisticRegression()\n",
        "log_fit = log.fit(X_train_res, y_train_res)\n",
        "predicted = log_fit.predict(input_val)\n"
      ],
      "metadata": {
        "colab": {
          "base_uri": "https://localhost:8080/"
        },
        "id": "L8d09FnqFmUR",
        "outputId": "2a4d4aa2-baad-4cc5-ecf5-3bb99804ea0d"
      },
      "execution_count": null,
      "outputs": [
        {
          "output_type": "stream",
          "name": "stdout",
          "text": [
            "Distribution before resampling Counter({0: 41301, 1: 1872})\n",
            "Distribution after resampling Counter({0: 1872, 1: 1872})\n"
          ]
        },
        {
          "output_type": "stream",
          "name": "stderr",
          "text": [
            "/usr/local/lib/python3.7/dist-packages/sklearn/linear_model/_logistic.py:818: ConvergenceWarning: lbfgs failed to converge (status=1):\n",
            "STOP: TOTAL NO. of ITERATIONS REACHED LIMIT.\n",
            "\n",
            "Increase the number of iterations (max_iter) or scale the data as shown in:\n",
            "    https://scikit-learn.org/stable/modules/preprocessing.html\n",
            "Please also refer to the documentation for alternative solver options:\n",
            "    https://scikit-learn.org/stable/modules/linear_model.html#logistic-regression\n",
            "  extra_warning_msg=_LOGISTIC_SOLVER_CONVERGENCE_MSG,\n"
          ]
        }
      ]
    },
    {
      "cell_type": "code",
      "source": [
        "show_results(output_val, predicted)"
      ],
      "metadata": {
        "colab": {
          "base_uri": "https://localhost:8080/"
        },
        "id": "vxrh6sSkGz3f",
        "outputId": "49832059-7e8f-4908-ae5c-cf289a335897"
      },
      "execution_count": null,
      "outputs": [
        {
          "output_type": "display_data",
          "data": {
            "text/plain": [
              "<Figure size 432x288 with 2 Axes>"
            ],
            "image/png": "[encoded data removed]"
          },
          "metadata": {
            "needs_background": "light"
          }
        },
        {
          "output_type": "display_data",
          "data": {
            "text/plain": [
              "<Figure size 432x288 with 1 Axes>"
            ],
            "image/png": "[encoded data removed]"
          },
          "metadata": {
            "needs_background": "light"
          }
        },
        {
          "output_type": "stream",
          "name": "stdout",
          "text": [
            "              precision    recall  f1-score   support\n",
            "\n",
            "           0       0.97      0.29      0.45     17718\n",
            "           1       0.05      0.83      0.09       785\n",
            "\n",
            "    accuracy                           0.32     18503\n",
            "   macro avg       0.51      0.56      0.27     18503\n",
            "weighted avg       0.94      0.32      0.43     18503\n",
            "\n"
          ]
        }
      ]
    },
    {
      "cell_type": "markdown",
      "source": [
        "# Combinamos resampling con Smoke-Tomek"
      ],
      "metadata": {
        "id": "wWZgZ7D6IiA2"
      }
    },
    {
      "cell_type": "code",
      "source": [
        "os_us = SMOTETomek()\n",
        "X_train_res, y_train_res = os_us.fit_resample(input_tra, output_tra)\n",
        "\n",
        "print (\"Distribution before resampling {}\".format(Counter(output_tra)))\n",
        "print (\"Distribution after resampling {}\".format(Counter(y_train_res)))\n",
        " "
      ],
      "metadata": {
        "colab": {
          "base_uri": "https://localhost:8080/"
        },
        "id": "MpWmojmoIkV-",
        "outputId": "ced7c464-1bce-4a5f-ed48-7e6ba938b38b"
      },
      "execution_count": null,
      "outputs": [
        {
          "output_type": "stream",
          "name": "stdout",
          "text": [
            "Distribution before resampling Counter({0: 41301, 1: 1872})\n",
            "Distribution after resampling Counter({0: 41296, 1: 41296})\n"
          ]
        }
      ]
    },
    {
      "cell_type": "code",
      "source": [
        "\n",
        "log_fit = LogisticRegression()\n",
        "log_fit = log.fit(X_train_res, y_train_res)\n",
        "predicted = log_fit.predict(input_val)\n"
      ],
      "metadata": {
        "colab": {
          "base_uri": "https://localhost:8080/"
        },
        "id": "wsrh2OheJeuf",
        "outputId": "dc163f68-ea36-4257-ea4a-71d27332e737"
      },
      "execution_count": null,
      "outputs": [
        {
          "output_type": "stream",
          "name": "stderr",
          "text": [
            "/usr/local/lib/python3.7/dist-packages/sklearn/linear_model/_logistic.py:818: ConvergenceWarning: lbfgs failed to converge (status=1):\n",
            "STOP: TOTAL NO. of ITERATIONS REACHED LIMIT.\n",
            "\n",
            "Increase the number of iterations (max_iter) or scale the data as shown in:\n",
            "    https://scikit-learn.org/stable/modules/preprocessing.html\n",
            "Please also refer to the documentation for alternative solver options:\n",
            "    https://scikit-learn.org/stable/modules/linear_model.html#logistic-regression\n",
            "  extra_warning_msg=_LOGISTIC_SOLVER_CONVERGENCE_MSG,\n"
          ]
        }
      ]
    },
    {
      "cell_type": "code",
      "source": [
        "show_results(output_val, predicted)"
      ],
      "metadata": {
        "colab": {
          "base_uri": "https://localhost:8080/",
          "height": 771
        },
        "id": "BEtGPrtjJhU6",
        "outputId": "933a835c-9ae8-48e0-81ed-b733d26896d3"
      },
      "execution_count": null,
      "outputs": [
        {
          "output_type": "display_data",
          "data": {
            "text/plain": [
              "<Figure size 432x288 with 2 Axes>"
            ],
            "image/png": "[encoded data removed]"
          },
          "metadata": {
            "needs_background": "light"
          }
        },
        {
          "output_type": "display_data",
          "data": {
            "text/plain": [
              "<Figure size 432x288 with 1 Axes>"
            ],
            "image/png": "[encoded data removed]"
          },
          "metadata": {
            "needs_background": "light"
          }
        },
        {
          "output_type": "stream",
          "name": "stdout",
          "text": [
            "              precision    recall  f1-score   support\n",
            "\n",
            "           0       0.96      0.81      0.88     17718\n",
            "           1       0.07      0.34      0.12       785\n",
            "\n",
            "    accuracy                           0.79     18503\n",
            "   macro avg       0.52      0.57      0.50     18503\n",
            "weighted avg       0.93      0.79      0.85     18503\n",
            "\n"
          ]
        }
      ]
    },
    {
      "cell_type": "markdown",
      "source": [
        "# Resumen y Conclusiones\n",
        "\n",
        "![image.png](data:image/png;base64,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)"
      ],
      "metadata": {
        "id": "WFPY_z7SNwT_"
      }
    },
    {
      "cell_type": "markdown",
      "source": [
        "\n",
        "\n",
        "*   Cuando se tratan problemas asociados con clasificación y se cuentan con clases no balanceadas, se requiere explorar diferentes técnicas de muestreo de los datos de entrenamiento.\n",
        "\n",
        "*   Para encontrar un modelo con mejor desempeño, se podría ensayar estrategias de AutoML.\n",
        "\n",
        "*   Es probable que estemos frente a un reto que requiera tener mejor selección de las variables de entrada o bien enriquecer el dataset con más características que sean relevantes.\n",
        "\n"
      ],
      "metadata": {
        "id": "NZri7uPnOGru"
      }
    },
    {
      "cell_type": "markdown",
      "source": [
        "# Recursos\n",
        "\n",
        "* https://www.aprendemachinelearning.com/clasificacion-con-datos-desbalanceados/\n",
        "\n",
        "\n",
        "* https://towardsdatascience.com/imbalanced-classification-in-python-smote-tomek-links-method-6e48dfe69bbc\n",
        "\n",
        "* http://glemaitre.github.io/imbalanced-learn/generated/imblearn.combine.SMOTETomek.html \n",
        "\n",
        "* https://machinelearningmastery.com/what-is-imbalanced-classification/\n",
        "\n",
        "* https://machinelearningmastery.com/tactics-to-combat-imbalanced-classes-in-your-machine-learning-dataset/ **texto en negrita**"
      ],
      "metadata": {
        "id": "f-_ADKuvPSOu"
      }
    }
  ]
}